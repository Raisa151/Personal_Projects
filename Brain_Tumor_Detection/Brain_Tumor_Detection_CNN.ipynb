{
  "nbformat": 4,
  "nbformat_minor": 0,
  "metadata": {
    "colab": {
      "provenance": []
    },
    "kernelspec": {
      "name": "python3",
      "display_name": "Python 3"
    },
    "language_info": {
      "name": "python"
    },
    "accelerator": "GPU",
    "gpuClass": "standard"
  },
  "cells": [
    {
      "cell_type": "markdown",
      "source": [
        "## Read and Split the Data"
      ],
      "metadata": {
        "id": "-sk7wKLocpaa"
      }
    },
    {
      "cell_type": "markdown",
      "source": [
        "get the data  -> unzip the data -> import the libraries -> count the number -> create folder for train, test and validation -> move data from one folder to another."
      ],
      "metadata": {
        "id": "qnax9Q1J4RP5"
      }
    },
    {
      "cell_type": "code",
      "source": [
        "import warnings\n",
        "warnings.filterwarnings('ignore')"
      ],
      "metadata": {
        "id": "XaUyv9SdFX6S"
      },
      "execution_count": 1,
      "outputs": []
    },
    {
      "cell_type": "code",
      "source": [
        "#  unzip data\n",
        "!unzip /content/Brain_Tumor_Dataset.zip"
      ],
      "metadata": {
        "colab": {
          "base_uri": "https://localhost:8080/"
        },
        "id": "ISuTFBiPD0Wa",
        "outputId": "eaf934b4-bab7-40be-a5bf-96e3cc5ad92e"
      },
      "execution_count": 2,
      "outputs": [
        {
          "output_type": "stream",
          "name": "stdout",
          "text": [
            "Archive:  /content/Brain_Tumor_Dataset.zip\n",
            "   creating: Brain_Tumor_Dataset/Brain_Tumor/\n",
            "  inflating: Brain_Tumor_Dataset/Brain_Tumor/Y1.jpg  \n",
            "  inflating: Brain_Tumor_Dataset/Brain_Tumor/Y10.jpg  \n",
            "  inflating: Brain_Tumor_Dataset/Brain_Tumor/Y100.JPG  \n",
            "  inflating: Brain_Tumor_Dataset/Brain_Tumor/Y101.jpg  \n",
            "  inflating: Brain_Tumor_Dataset/Brain_Tumor/Y102.jpg  \n",
            "  inflating: Brain_Tumor_Dataset/Brain_Tumor/Y103.jpg  \n",
            "  inflating: Brain_Tumor_Dataset/Brain_Tumor/Y104.jpg  \n",
            "  inflating: Brain_Tumor_Dataset/Brain_Tumor/Y105.jpg  \n",
            "  inflating: Brain_Tumor_Dataset/Brain_Tumor/Y106.jpg  \n",
            "  inflating: Brain_Tumor_Dataset/Brain_Tumor/Y107.jpg  \n",
            "  inflating: Brain_Tumor_Dataset/Brain_Tumor/Y108.jpg  \n",
            "  inflating: Brain_Tumor_Dataset/Brain_Tumor/Y109.JPG  \n",
            "  inflating: Brain_Tumor_Dataset/Brain_Tumor/Y11.jpg  \n",
            "  inflating: Brain_Tumor_Dataset/Brain_Tumor/Y111.JPG  \n",
            "  inflating: Brain_Tumor_Dataset/Brain_Tumor/Y112.JPG  \n",
            "  inflating: Brain_Tumor_Dataset/Brain_Tumor/Y113.JPG  \n",
            "  inflating: Brain_Tumor_Dataset/Brain_Tumor/Y114.JPG  \n",
            "  inflating: Brain_Tumor_Dataset/Brain_Tumor/Y115.JPG  \n",
            "  inflating: Brain_Tumor_Dataset/Brain_Tumor/Y116.JPG  \n",
            "  inflating: Brain_Tumor_Dataset/Brain_Tumor/Y117.JPG  \n",
            "  inflating: Brain_Tumor_Dataset/Brain_Tumor/Y12.jpg  \n",
            "  inflating: Brain_Tumor_Dataset/Brain_Tumor/Y120.JPG  \n",
            "  inflating: Brain_Tumor_Dataset/Brain_Tumor/Y13.jpg  \n",
            "  inflating: Brain_Tumor_Dataset/Brain_Tumor/Y14.jpg  \n",
            "  inflating: Brain_Tumor_Dataset/Brain_Tumor/Y146.JPG  \n",
            "  inflating: Brain_Tumor_Dataset/Brain_Tumor/Y147.JPG  \n",
            "  inflating: Brain_Tumor_Dataset/Brain_Tumor/Y148.JPG  \n",
            "  inflating: Brain_Tumor_Dataset/Brain_Tumor/Y15.jpg  \n",
            "  inflating: Brain_Tumor_Dataset/Brain_Tumor/Y153.jpg  \n",
            "  inflating: Brain_Tumor_Dataset/Brain_Tumor/Y154.jpg  \n",
            "  inflating: Brain_Tumor_Dataset/Brain_Tumor/Y155.JPG  \n",
            "  inflating: Brain_Tumor_Dataset/Brain_Tumor/Y156.JPG  \n",
            "  inflating: Brain_Tumor_Dataset/Brain_Tumor/Y157.JPG  \n",
            "  inflating: Brain_Tumor_Dataset/Brain_Tumor/Y158.JPG  \n",
            "  inflating: Brain_Tumor_Dataset/Brain_Tumor/Y159.JPG  \n",
            "  inflating: Brain_Tumor_Dataset/Brain_Tumor/Y16.JPG  \n",
            "  inflating: Brain_Tumor_Dataset/Brain_Tumor/Y160.JPG  \n",
            "  inflating: Brain_Tumor_Dataset/Brain_Tumor/Y161.JPG  \n",
            "  inflating: Brain_Tumor_Dataset/Brain_Tumor/Y162.jpg  \n",
            "  inflating: Brain_Tumor_Dataset/Brain_Tumor/Y163.JPG  \n",
            "  inflating: Brain_Tumor_Dataset/Brain_Tumor/Y164.JPG  \n",
            "  inflating: Brain_Tumor_Dataset/Brain_Tumor/Y165.JPG  \n",
            "  inflating: Brain_Tumor_Dataset/Brain_Tumor/Y166.JPG  \n",
            "  inflating: Brain_Tumor_Dataset/Brain_Tumor/Y167.JPG  \n",
            "  inflating: Brain_Tumor_Dataset/Brain_Tumor/Y168.jpg  \n",
            "  inflating: Brain_Tumor_Dataset/Brain_Tumor/Y169.jpg  \n",
            "  inflating: Brain_Tumor_Dataset/Brain_Tumor/Y17.jpg  \n",
            "  inflating: Brain_Tumor_Dataset/Brain_Tumor/Y170.JPG  \n",
            "  inflating: Brain_Tumor_Dataset/Brain_Tumor/Y18.JPG  \n",
            "  inflating: Brain_Tumor_Dataset/Brain_Tumor/Y180.jpg  \n",
            "  inflating: Brain_Tumor_Dataset/Brain_Tumor/Y181.jpg  \n",
            "  inflating: Brain_Tumor_Dataset/Brain_Tumor/Y182.JPG  \n",
            "  inflating: Brain_Tumor_Dataset/Brain_Tumor/Y183.jpg  \n",
            "  inflating: Brain_Tumor_Dataset/Brain_Tumor/Y184.JPG  \n",
            "  inflating: Brain_Tumor_Dataset/Brain_Tumor/Y185.jpg  \n",
            "  inflating: Brain_Tumor_Dataset/Brain_Tumor/Y186.jpg  \n",
            "  inflating: Brain_Tumor_Dataset/Brain_Tumor/Y187.jpg  \n",
            "  inflating: Brain_Tumor_Dataset/Brain_Tumor/Y188.jpg  \n",
            "  inflating: Brain_Tumor_Dataset/Brain_Tumor/Y19.JPG  \n",
            "  inflating: Brain_Tumor_Dataset/Brain_Tumor/Y192.JPG  \n",
            "  inflating: Brain_Tumor_Dataset/Brain_Tumor/Y193.JPG  \n",
            "  inflating: Brain_Tumor_Dataset/Brain_Tumor/Y194.jpg  \n",
            "  inflating: Brain_Tumor_Dataset/Brain_Tumor/Y195.JPG  \n",
            "  inflating: Brain_Tumor_Dataset/Brain_Tumor/Y2.jpg  \n",
            "  inflating: Brain_Tumor_Dataset/Brain_Tumor/Y20.jpg  \n",
            "  inflating: Brain_Tumor_Dataset/Brain_Tumor/Y21.jpg  \n",
            "  inflating: Brain_Tumor_Dataset/Brain_Tumor/Y22.jpg  \n",
            "  inflating: Brain_Tumor_Dataset/Brain_Tumor/Y23.JPG  \n",
            "  inflating: Brain_Tumor_Dataset/Brain_Tumor/Y24.jpg  \n",
            "  inflating: Brain_Tumor_Dataset/Brain_Tumor/Y242.JPG  \n",
            "  inflating: Brain_Tumor_Dataset/Brain_Tumor/Y243.JPG  \n",
            "  inflating: Brain_Tumor_Dataset/Brain_Tumor/Y244.JPG  \n",
            "  inflating: Brain_Tumor_Dataset/Brain_Tumor/Y245.jpg  \n",
            "  inflating: Brain_Tumor_Dataset/Brain_Tumor/Y246.JPG  \n",
            "  inflating: Brain_Tumor_Dataset/Brain_Tumor/Y247.JPG  \n",
            "  inflating: Brain_Tumor_Dataset/Brain_Tumor/Y248.JPG  \n",
            "  inflating: Brain_Tumor_Dataset/Brain_Tumor/Y249.JPG  \n",
            "  inflating: Brain_Tumor_Dataset/Brain_Tumor/Y25.jpg  \n",
            " extracting: Brain_Tumor_Dataset/Brain_Tumor/Y250.jpg  \n",
            "  inflating: Brain_Tumor_Dataset/Brain_Tumor/Y251.JPG  \n",
            "  inflating: Brain_Tumor_Dataset/Brain_Tumor/Y252.jpg  \n",
            "  inflating: Brain_Tumor_Dataset/Brain_Tumor/Y253.JPG  \n",
            "  inflating: Brain_Tumor_Dataset/Brain_Tumor/Y254.jpg  \n",
            "  inflating: Brain_Tumor_Dataset/Brain_Tumor/Y255.JPG  \n",
            "  inflating: Brain_Tumor_Dataset/Brain_Tumor/Y256.JPG  \n",
            "  inflating: Brain_Tumor_Dataset/Brain_Tumor/Y257.jpg  \n",
            "  inflating: Brain_Tumor_Dataset/Brain_Tumor/Y258.JPG  \n",
            "  inflating: Brain_Tumor_Dataset/Brain_Tumor/Y259.JPG  \n",
            "  inflating: Brain_Tumor_Dataset/Brain_Tumor/Y26.jpg  \n",
            "  inflating: Brain_Tumor_Dataset/Brain_Tumor/Y27.jpg  \n",
            "  inflating: Brain_Tumor_Dataset/Brain_Tumor/Y28.jpg  \n",
            "  inflating: Brain_Tumor_Dataset/Brain_Tumor/Y29.jpg  \n",
            "  inflating: Brain_Tumor_Dataset/Brain_Tumor/Y3.jpg  \n",
            " extracting: Brain_Tumor_Dataset/Brain_Tumor/Y30.jpg  \n",
            "  inflating: Brain_Tumor_Dataset/Brain_Tumor/Y31.jpg  \n",
            "  inflating: Brain_Tumor_Dataset/Brain_Tumor/Y32.jpg  \n",
            "  inflating: Brain_Tumor_Dataset/Brain_Tumor/Y33.jpg  \n",
            "  inflating: Brain_Tumor_Dataset/Brain_Tumor/Y34.jpg  \n",
            "  inflating: Brain_Tumor_Dataset/Brain_Tumor/Y35.jpg  \n",
            "  inflating: Brain_Tumor_Dataset/Brain_Tumor/Y36.JPG  \n",
            "  inflating: Brain_Tumor_Dataset/Brain_Tumor/Y37.jpg  \n",
            " extracting: Brain_Tumor_Dataset/Brain_Tumor/Y38.jpg  \n",
            "  inflating: Brain_Tumor_Dataset/Brain_Tumor/Y39.jpg  \n",
            "  inflating: Brain_Tumor_Dataset/Brain_Tumor/Y4.jpg  \n",
            "  inflating: Brain_Tumor_Dataset/Brain_Tumor/Y40.JPG  \n",
            "  inflating: Brain_Tumor_Dataset/Brain_Tumor/Y41.jpg  \n",
            "  inflating: Brain_Tumor_Dataset/Brain_Tumor/Y42.jpg  \n",
            "  inflating: Brain_Tumor_Dataset/Brain_Tumor/Y44.JPG  \n",
            "  inflating: Brain_Tumor_Dataset/Brain_Tumor/Y45.JPG  \n",
            "  inflating: Brain_Tumor_Dataset/Brain_Tumor/Y46.jpg  \n",
            "  inflating: Brain_Tumor_Dataset/Brain_Tumor/Y47.JPG  \n",
            "  inflating: Brain_Tumor_Dataset/Brain_Tumor/Y49.JPG  \n",
            "  inflating: Brain_Tumor_Dataset/Brain_Tumor/Y50.JPG  \n",
            "  inflating: Brain_Tumor_Dataset/Brain_Tumor/Y51.jpg  \n",
            "  inflating: Brain_Tumor_Dataset/Brain_Tumor/Y52.jpg  \n",
            "  inflating: Brain_Tumor_Dataset/Brain_Tumor/Y53.jpg  \n",
            " extracting: Brain_Tumor_Dataset/Brain_Tumor/Y54.jpg  \n",
            "  inflating: Brain_Tumor_Dataset/Brain_Tumor/Y55.jpg  \n",
            "  inflating: Brain_Tumor_Dataset/Brain_Tumor/Y56.jpg  \n",
            "  inflating: Brain_Tumor_Dataset/Brain_Tumor/Y58.JPG  \n",
            "  inflating: Brain_Tumor_Dataset/Brain_Tumor/Y59.JPG  \n",
            "  inflating: Brain_Tumor_Dataset/Brain_Tumor/Y6.jpg  \n",
            "  inflating: Brain_Tumor_Dataset/Brain_Tumor/Y60.jpg  \n",
            "  inflating: Brain_Tumor_Dataset/Brain_Tumor/Y61.jpg  \n",
            "  inflating: Brain_Tumor_Dataset/Brain_Tumor/Y62.jpg  \n",
            "  inflating: Brain_Tumor_Dataset/Brain_Tumor/Y65.JPG  \n",
            "  inflating: Brain_Tumor_Dataset/Brain_Tumor/Y66.JPG  \n",
            "  inflating: Brain_Tumor_Dataset/Brain_Tumor/Y67.JPG  \n",
            "  inflating: Brain_Tumor_Dataset/Brain_Tumor/Y69.jpg  \n",
            "  inflating: Brain_Tumor_Dataset/Brain_Tumor/Y7.jpg  \n",
            " extracting: Brain_Tumor_Dataset/Brain_Tumor/Y70.jpg  \n",
            "  inflating: Brain_Tumor_Dataset/Brain_Tumor/Y71.JPG  \n",
            "  inflating: Brain_Tumor_Dataset/Brain_Tumor/Y73.jpg  \n",
            "  inflating: Brain_Tumor_Dataset/Brain_Tumor/Y74.jpg  \n",
            "  inflating: Brain_Tumor_Dataset/Brain_Tumor/Y75.JPG  \n",
            "  inflating: Brain_Tumor_Dataset/Brain_Tumor/Y76.jpg  \n",
            "  inflating: Brain_Tumor_Dataset/Brain_Tumor/Y77.jpg  \n",
            "  inflating: Brain_Tumor_Dataset/Brain_Tumor/Y78.jpg  \n",
            "  inflating: Brain_Tumor_Dataset/Brain_Tumor/Y79.jpg  \n",
            "  inflating: Brain_Tumor_Dataset/Brain_Tumor/Y8.jpg  \n",
            "  inflating: Brain_Tumor_Dataset/Brain_Tumor/Y81.jpg  \n",
            "  inflating: Brain_Tumor_Dataset/Brain_Tumor/Y82.jpg  \n",
            "  inflating: Brain_Tumor_Dataset/Brain_Tumor/Y85.JPG  \n",
            "  inflating: Brain_Tumor_Dataset/Brain_Tumor/Y86.JPG  \n",
            "  inflating: Brain_Tumor_Dataset/Brain_Tumor/Y89.JPG  \n",
            "  inflating: Brain_Tumor_Dataset/Brain_Tumor/Y9.jpg  \n",
            "  inflating: Brain_Tumor_Dataset/Brain_Tumor/Y90.jpg  \n",
            "  inflating: Brain_Tumor_Dataset/Brain_Tumor/Y91.jpg  \n",
            "  inflating: Brain_Tumor_Dataset/Brain_Tumor/Y92.jpg  \n",
            "  inflating: Brain_Tumor_Dataset/Brain_Tumor/Y92.png  \n",
            "  inflating: Brain_Tumor_Dataset/Brain_Tumor/Y95.jpg  \n",
            "  inflating: Brain_Tumor_Dataset/Brain_Tumor/Y96.jpg  \n",
            "  inflating: Brain_Tumor_Dataset/Brain_Tumor/Y97.JPG  \n",
            "  inflating: Brain_Tumor_Dataset/Brain_Tumor/Y98.JPG  \n",
            "  inflating: Brain_Tumor_Dataset/Brain_Tumor/Y99.JPG  \n",
            "   creating: Brain_Tumor_Dataset/Healthy/\n",
            "  inflating: Brain_Tumor_Dataset/Healthy/1 no.jpeg  \n",
            "  inflating: Brain_Tumor_Dataset/Healthy/10 no.jpg  \n",
            "  inflating: Brain_Tumor_Dataset/Healthy/11 no.jpg  \n",
            "  inflating: Brain_Tumor_Dataset/Healthy/12 no.jpg  \n",
            "  inflating: Brain_Tumor_Dataset/Healthy/13 no.jpg  \n",
            "  inflating: Brain_Tumor_Dataset/Healthy/14 no.jpg  \n",
            "  inflating: Brain_Tumor_Dataset/Healthy/15 no.jpg  \n",
            "  inflating: Brain_Tumor_Dataset/Healthy/17 no.jpg  \n",
            "  inflating: Brain_Tumor_Dataset/Healthy/18 no.jpg  \n",
            "  inflating: Brain_Tumor_Dataset/Healthy/19 no.jpg  \n",
            "  inflating: Brain_Tumor_Dataset/Healthy/2 no.jpeg  \n",
            "  inflating: Brain_Tumor_Dataset/Healthy/20 no.jpg  \n",
            "  inflating: Brain_Tumor_Dataset/Healthy/21 no.jpg  \n",
            "  inflating: Brain_Tumor_Dataset/Healthy/22 no.jpg  \n",
            "  inflating: Brain_Tumor_Dataset/Healthy/23 no.jpg  \n",
            "  inflating: Brain_Tumor_Dataset/Healthy/24 no.jpg  \n",
            "  inflating: Brain_Tumor_Dataset/Healthy/25 no.jpg  \n",
            "  inflating: Brain_Tumor_Dataset/Healthy/26 no.jpg  \n",
            "  inflating: Brain_Tumor_Dataset/Healthy/27 no.jpg  \n",
            "  inflating: Brain_Tumor_Dataset/Healthy/28 no.jpg  \n",
            "  inflating: Brain_Tumor_Dataset/Healthy/29 no.jpg  \n",
            "  inflating: Brain_Tumor_Dataset/Healthy/3 no.jpg  \n",
            "  inflating: Brain_Tumor_Dataset/Healthy/30 no.jpg  \n",
            "  inflating: Brain_Tumor_Dataset/Healthy/31 no.jpg  \n",
            "  inflating: Brain_Tumor_Dataset/Healthy/32 no.jpg  \n",
            "  inflating: Brain_Tumor_Dataset/Healthy/33 no.jpg  \n",
            "  inflating: Brain_Tumor_Dataset/Healthy/34 no.jpg  \n",
            "  inflating: Brain_Tumor_Dataset/Healthy/35 no.jpg  \n",
            "  inflating: Brain_Tumor_Dataset/Healthy/36 no.jpg  \n",
            "  inflating: Brain_Tumor_Dataset/Healthy/37 no.jpg  \n",
            "  inflating: Brain_Tumor_Dataset/Healthy/38 no.jpg  \n",
            "  inflating: Brain_Tumor_Dataset/Healthy/39 no.jpg  \n",
            "  inflating: Brain_Tumor_Dataset/Healthy/4 no.jpg  \n",
            "  inflating: Brain_Tumor_Dataset/Healthy/40 no.jpg  \n",
            "  inflating: Brain_Tumor_Dataset/Healthy/41 no.jpg  \n",
            "  inflating: Brain_Tumor_Dataset/Healthy/42 no.jpg  \n",
            "  inflating: Brain_Tumor_Dataset/Healthy/43 no.jpg  \n",
            "  inflating: Brain_Tumor_Dataset/Healthy/44no.jpg  \n",
            "  inflating: Brain_Tumor_Dataset/Healthy/45 no.jpg  \n",
            "  inflating: Brain_Tumor_Dataset/Healthy/46 no.jpg  \n",
            "  inflating: Brain_Tumor_Dataset/Healthy/47 no.jpg  \n",
            "  inflating: Brain_Tumor_Dataset/Healthy/48 no.jpeg  \n",
            "  inflating: Brain_Tumor_Dataset/Healthy/49 no.jpg  \n",
            "  inflating: Brain_Tumor_Dataset/Healthy/5 no.jpg  \n",
            "  inflating: Brain_Tumor_Dataset/Healthy/50 no.jpg  \n",
            "  inflating: Brain_Tumor_Dataset/Healthy/6 no.jpg  \n",
            "  inflating: Brain_Tumor_Dataset/Healthy/7 no.jpg  \n",
            "  inflating: Brain_Tumor_Dataset/Healthy/8 no.jpg  \n",
            "  inflating: Brain_Tumor_Dataset/Healthy/9 no.jpg  \n",
            "  inflating: Brain_Tumor_Dataset/Healthy/N1.JPG  \n",
            "  inflating: Brain_Tumor_Dataset/Healthy/N11.jpg  \n",
            "  inflating: Brain_Tumor_Dataset/Healthy/N15.jpg  \n",
            "  inflating: Brain_Tumor_Dataset/Healthy/N16.jpg  \n",
            "  inflating: Brain_Tumor_Dataset/Healthy/N17.jpg  \n",
            "  inflating: Brain_Tumor_Dataset/Healthy/N19.JPG  \n",
            "  inflating: Brain_Tumor_Dataset/Healthy/N2.JPG  \n",
            "  inflating: Brain_Tumor_Dataset/Healthy/N20.JPG  \n",
            "  inflating: Brain_Tumor_Dataset/Healthy/N21.jpg  \n",
            "  inflating: Brain_Tumor_Dataset/Healthy/N22.JPG  \n",
            "  inflating: Brain_Tumor_Dataset/Healthy/N26.JPG  \n",
            " extracting: Brain_Tumor_Dataset/Healthy/N3.jpg  \n",
            "  inflating: Brain_Tumor_Dataset/Healthy/N5.jpg  \n",
            "  inflating: Brain_Tumor_Dataset/Healthy/N6.jpg  \n",
            "  inflating: Brain_Tumor_Dataset/Healthy/no 1.jpg  \n",
            "  inflating: Brain_Tumor_Dataset/Healthy/no 10.jpg  \n",
            "  inflating: Brain_Tumor_Dataset/Healthy/no 100.jpg  \n",
            "  inflating: Brain_Tumor_Dataset/Healthy/no 2.jpg  \n",
            "  inflating: Brain_Tumor_Dataset/Healthy/no 3.jpg  \n",
            " extracting: Brain_Tumor_Dataset/Healthy/no 4.jpg  \n",
            "  inflating: Brain_Tumor_Dataset/Healthy/no 5.jpeg  \n",
            "  inflating: Brain_Tumor_Dataset/Healthy/no 6.jpg  \n",
            "  inflating: Brain_Tumor_Dataset/Healthy/no 7.jpeg  \n",
            "  inflating: Brain_Tumor_Dataset/Healthy/no 8.jpg  \n",
            "  inflating: Brain_Tumor_Dataset/Healthy/no 89.jpg  \n",
            "  inflating: Brain_Tumor_Dataset/Healthy/no 9.png  \n",
            "  inflating: Brain_Tumor_Dataset/Healthy/no 90.jpg  \n",
            "  inflating: Brain_Tumor_Dataset/Healthy/no 91.jpeg  \n",
            "  inflating: Brain_Tumor_Dataset/Healthy/no 92.jpg  \n",
            "  inflating: Brain_Tumor_Dataset/Healthy/no 923.jpg  \n",
            "  inflating: Brain_Tumor_Dataset/Healthy/no 94.jpg  \n",
            "  inflating: Brain_Tumor_Dataset/Healthy/no 95.jpg  \n",
            "  inflating: Brain_Tumor_Dataset/Healthy/no 96.jpg  \n",
            "  inflating: Brain_Tumor_Dataset/Healthy/no 97.jpg  \n",
            "  inflating: Brain_Tumor_Dataset/Healthy/no 98.jpg  \n",
            "  inflating: Brain_Tumor_Dataset/Healthy/no 99.jpg  \n",
            "  inflating: Brain_Tumor_Dataset/Healthy/no.jpg  \n",
            "  inflating: Brain_Tumor_Dataset/Healthy/No11.jpg  \n",
            "  inflating: Brain_Tumor_Dataset/Healthy/No12.jpg  \n",
            "  inflating: Brain_Tumor_Dataset/Healthy/No13.jpg  \n",
            "  inflating: Brain_Tumor_Dataset/Healthy/No14.jpg  \n",
            "  inflating: Brain_Tumor_Dataset/Healthy/No15.jpg  \n",
            "  inflating: Brain_Tumor_Dataset/Healthy/No16.jpg  \n",
            "  inflating: Brain_Tumor_Dataset/Healthy/No17.jpg  \n",
            "  inflating: Brain_Tumor_Dataset/Healthy/No18.jpg  \n",
            "  inflating: Brain_Tumor_Dataset/Healthy/No19.jpg  \n",
            "  inflating: Brain_Tumor_Dataset/Healthy/No20.jpg  \n",
            "  inflating: Brain_Tumor_Dataset/Healthy/No21.jpg  \n",
            "  inflating: Brain_Tumor_Dataset/Healthy/No22.jpg  \n"
          ]
        }
      ]
    },
    {
      "cell_type": "code",
      "source": [
        "# import the libraries\n",
        "\n",
        "import os\n",
        "import glob\n",
        "import shutil\n",
        "import math\n",
        "import matplotlib.pyplot as plt\n",
        "import numpy as np"
      ],
      "metadata": {
        "id": "oy8me9WMGKNx"
      },
      "execution_count": 3,
      "outputs": []
    },
    {
      "cell_type": "code",
      "source": [
        "# count the number of images\n",
        "\n",
        "ROOT_DIR = \"/content/Brain_Tumor_Dataset\"\n",
        "number_of_images = {}\n",
        "\n",
        "for dir in os.listdir(ROOT_DIR):\n",
        "  number_of_images[dir] = len(os.listdir(os.path.join(ROOT_DIR,dir)))\n",
        "\n",
        "number_of_images.items()"
      ],
      "metadata": {
        "colab": {
          "base_uri": "https://localhost:8080/"
        },
        "id": "DaW4aQfeGgtj",
        "outputId": "a6f2e93c-4945-4a85-d87a-c905fd07d3f9"
      },
      "execution_count": 4,
      "outputs": [
        {
          "output_type": "execute_result",
          "data": {
            "text/plain": [
              "dict_items([('Healthy', 98), ('Brain_Tumor', 155)])"
            ]
          },
          "metadata": {},
          "execution_count": 4
        }
      ]
    },
    {
      "cell_type": "code",
      "source": [
        "def splitData(path,split):\n",
        "\n",
        "  if not os.path.exists(\"./\" + path):\n",
        "    os.mkdir(\"./\" + path)\n",
        "    \n",
        "    for dir in os.listdir(ROOT_DIR):\n",
        "      os.makedirs(\"./\" + path + \"/\" + dir)\n",
        "      for img in np.random.choice(a = os.listdir(os.path.join(ROOT_DIR, dir)),\n",
        "                                  size = (math.floor(split*number_of_images[dir])-2),\n",
        "                                  replace = False):\n",
        "        O = os.path.join(ROOT_DIR,dir,img)\n",
        "        D = os.path.join(\"./\" + path , dir)\n",
        "        shutil.copy(O,D)\n",
        "        os.remove(O)\n",
        "  else:\n",
        "    print(\"The folder already exists\")"
      ],
      "metadata": {
        "id": "5ov7DpyWXUVJ"
      },
      "execution_count": 5,
      "outputs": []
    },
    {
      "cell_type": "code",
      "source": [
        "splitData(\"test\", 0.15 )"
      ],
      "metadata": {
        "id": "9wOiM0usZLE_"
      },
      "execution_count": 6,
      "outputs": []
    },
    {
      "cell_type": "code",
      "source": [
        "# count the number of images\n",
        "\n",
        "ROOT_DIR = \"/content/Brain_Tumor_Dataset\"\n",
        "number_of_images = {}\n",
        "\n",
        "for dir in os.listdir(ROOT_DIR):\n",
        "  number_of_images[dir] = len(os.listdir(os.path.join(ROOT_DIR,dir)))\n",
        "\n",
        "number_of_images.items()"
      ],
      "metadata": {
        "colab": {
          "base_uri": "https://localhost:8080/"
        },
        "id": "arBTBPz_bdEZ",
        "outputId": "f8672b77-10b9-4e8c-a895-f3f8afe9b46e"
      },
      "execution_count": 7,
      "outputs": [
        {
          "output_type": "execute_result",
          "data": {
            "text/plain": [
              "dict_items([('Healthy', 86), ('Brain_Tumor', 134)])"
            ]
          },
          "metadata": {},
          "execution_count": 7
        }
      ]
    },
    {
      "cell_type": "code",
      "source": [
        "splitData(\"val\", 0.18)"
      ],
      "metadata": {
        "id": "ie4pj_vGbOUf"
      },
      "execution_count": 8,
      "outputs": []
    },
    {
      "cell_type": "code",
      "source": [
        "# count the number of images\n",
        "\n",
        "ROOT_DIR = \"/content/Brain_Tumor_Dataset\"\n",
        "number_of_images = {}\n",
        "\n",
        "for dir in os.listdir(ROOT_DIR):\n",
        "  number_of_images[dir] = len(os.listdir(os.path.join(ROOT_DIR,dir)))\n",
        "\n",
        "number_of_images.items()"
      ],
      "metadata": {
        "colab": {
          "base_uri": "https://localhost:8080/"
        },
        "id": "wZVH5OFtmsEf",
        "outputId": "504fc638-8123-4297-985e-12a4f9dfb258"
      },
      "execution_count": 9,
      "outputs": [
        {
          "output_type": "execute_result",
          "data": {
            "text/plain": [
              "dict_items([('Healthy', 73), ('Brain_Tumor', 112)])"
            ]
          },
          "metadata": {},
          "execution_count": 9
        }
      ]
    },
    {
      "cell_type": "code",
      "source": [
        "splitData(\"train\", 1)"
      ],
      "metadata": {
        "id": "WTDnvSizcM2_"
      },
      "execution_count": 10,
      "outputs": []
    },
    {
      "cell_type": "code",
      "source": [
        "# count the number of images\n",
        "\n",
        "ROOT_DIR = \"/content/Brain_Tumor_Dataset\"\n",
        "number_of_images = {}\n",
        "\n",
        "for dir in os.listdir(ROOT_DIR):\n",
        "  number_of_images[dir] = len(os.listdir(os.path.join(ROOT_DIR,dir)))\n",
        "\n",
        "number_of_images.items()"
      ],
      "metadata": {
        "colab": {
          "base_uri": "https://localhost:8080/"
        },
        "id": "TvW7oqnumwSo",
        "outputId": "a6deb905-feaa-498f-a123-1309a8299282"
      },
      "execution_count": 11,
      "outputs": [
        {
          "output_type": "execute_result",
          "data": {
            "text/plain": [
              "dict_items([('Healthy', 2), ('Brain_Tumor', 2)])"
            ]
          },
          "metadata": {},
          "execution_count": 11
        }
      ]
    },
    {
      "cell_type": "markdown",
      "source": [
        "## Build a Model"
      ],
      "metadata": {
        "id": "Nnv5ZhsjcubQ"
      }
    },
    {
      "cell_type": "code",
      "source": [
        "import keras\n",
        "from keras.layers import Conv2D, MaxPool2D, Dropout, Flatten, Dense\n",
        "from keras.models import Sequential"
      ],
      "metadata": {
        "id": "Z2sfM00wcaPw"
      },
      "execution_count": 12,
      "outputs": []
    },
    {
      "cell_type": "markdown",
      "source": [
        "input layer -> conv layer -> pooling layer -> dropout -> flatten -> dropout -> dense -> output layer"
      ],
      "metadata": {
        "id": "Q_wODIjod0mw"
      }
    },
    {
      "cell_type": "code",
      "source": [
        "# model\n",
        "\n",
        "model = Sequential()\n",
        "model.add(Conv2D(filters= 16, kernel_size =(3,3), activation= 'relu', input_shape = (256,256,3)))\n",
        "\n",
        "model.add(Conv2D(filters= 32, kernel_size =(3,3), activation= 'relu'))\n",
        "model.add(MaxPool2D(pool_size= (2,2)))\n",
        "\n",
        "model.add(Conv2D(filters= 64, kernel_size =(3,3), activation= 'relu'))\n",
        "model.add(MaxPool2D(pool_size= (2,2)))\n",
        "\n",
        "model.add(Conv2D(filters= 128, kernel_size =(3,3), activation= 'relu'))\n",
        "model.add(MaxPool2D(pool_size= (2,2)))\n",
        "\n",
        "model.add(Dropout(rate = 0.25))\n",
        "\n",
        "model.add(Flatten())\n",
        "model.add(Dense(units = 64, activation= 'relu'))\n",
        "model.add(Dropout(rate = 0.25))\n",
        "model.add(Dense(units = 1, activation='sigmoid'))\n",
        "\n",
        "model.summary()"
      ],
      "metadata": {
        "colab": {
          "base_uri": "https://localhost:8080/"
        },
        "id": "drkI4lOadq8w",
        "outputId": "9f398a8e-4b54-423b-8552-aa0aa7bb6bd3"
      },
      "execution_count": 13,
      "outputs": [
        {
          "output_type": "stream",
          "name": "stdout",
          "text": [
            "Model: \"sequential\"\n",
            "_________________________________________________________________\n",
            " Layer (type)                Output Shape              Param #   \n",
            "=================================================================\n",
            " conv2d (Conv2D)             (None, 254, 254, 16)      448       \n",
            "                                                                 \n",
            " conv2d_1 (Conv2D)           (None, 252, 252, 32)      4640      \n",
            "                                                                 \n",
            " max_pooling2d (MaxPooling2D  (None, 126, 126, 32)     0         \n",
            " )                                                               \n",
            "                                                                 \n",
            " conv2d_2 (Conv2D)           (None, 124, 124, 64)      18496     \n",
            "                                                                 \n",
            " max_pooling2d_1 (MaxPooling  (None, 62, 62, 64)       0         \n",
            " 2D)                                                             \n",
            "                                                                 \n",
            " conv2d_3 (Conv2D)           (None, 60, 60, 128)       73856     \n",
            "                                                                 \n",
            " max_pooling2d_2 (MaxPooling  (None, 30, 30, 128)      0         \n",
            " 2D)                                                             \n",
            "                                                                 \n",
            " dropout (Dropout)           (None, 30, 30, 128)       0         \n",
            "                                                                 \n",
            " flatten (Flatten)           (None, 115200)            0         \n",
            "                                                                 \n",
            " dense (Dense)               (None, 64)                7372864   \n",
            "                                                                 \n",
            " dropout_1 (Dropout)         (None, 64)                0         \n",
            "                                                                 \n",
            " dense_1 (Dense)             (None, 1)                 65        \n",
            "                                                                 \n",
            "=================================================================\n",
            "Total params: 7,470,369\n",
            "Trainable params: 7,470,369\n",
            "Non-trainable params: 0\n",
            "_________________________________________________________________\n"
          ]
        }
      ]
    },
    {
      "cell_type": "code",
      "source": [
        "# compile\n",
        "\n",
        "model.compile(optimizer = 'adam', loss = keras.losses.BCE, metrics= ['accuracy'])"
      ],
      "metadata": {
        "id": "mkvCkCD9fuFg"
      },
      "execution_count": 14,
      "outputs": []
    },
    {
      "cell_type": "markdown",
      "source": [
        "## Pre process the data"
      ],
      "metadata": {
        "id": "CfF7fmSzgH-5"
      }
    },
    {
      "cell_type": "code",
      "source": [
        "from keras.preprocessing.image import ImageDataGenerator"
      ],
      "metadata": {
        "id": "_x87iPPcgP8I"
      },
      "execution_count": 15,
      "outputs": []
    },
    {
      "cell_type": "code",
      "source": [
        "image_data_1 = ImageDataGenerator(zoom_range = 0.2, shear_range = 0.2, rotation_range = 40,\n",
        "                                horizontal_flip = True, rescale = 1/255)\n",
        "\n",
        "train_image = image_data_1.flow_from_directory(directory = '/content/train', target_size = (256,256), batch_size = 32, class_mode = 'binary')"
      ],
      "metadata": {
        "colab": {
          "base_uri": "https://localhost:8080/"
        },
        "id": "GcrFor5KgdkQ",
        "outputId": "35b8232c-becd-483f-dfca-81433a839267"
      },
      "execution_count": 16,
      "outputs": [
        {
          "output_type": "stream",
          "name": "stdout",
          "text": [
            "Found 181 images belonging to 2 classes.\n"
          ]
        }
      ]
    },
    {
      "cell_type": "code",
      "source": [
        "image_data_2 = ImageDataGenerator(rescale = 1/255)\n",
        "\n",
        "test_image = image_data_2.flow_from_directory(directory = '/content/test', target_size = (256,256), batch_size = 32, class_mode = 'binary')"
      ],
      "metadata": {
        "colab": {
          "base_uri": "https://localhost:8080/"
        },
        "id": "iozf3A6UjR5g",
        "outputId": "a3f24831-9908-49e0-8364-1acb97acc70f"
      },
      "execution_count": 17,
      "outputs": [
        {
          "output_type": "stream",
          "name": "stdout",
          "text": [
            "Found 33 images belonging to 2 classes.\n"
          ]
        }
      ]
    },
    {
      "cell_type": "code",
      "source": [
        "val_image = image_data_2.flow_from_directory(directory = '/content/val', target_size = (256,256), batch_size = 32, class_mode = 'binary')"
      ],
      "metadata": {
        "colab": {
          "base_uri": "https://localhost:8080/"
        },
        "id": "4RHXnhXbjcm_",
        "outputId": "60da4483-ea76-4d8d-950a-4f2ace97e076"
      },
      "execution_count": 18,
      "outputs": [
        {
          "output_type": "stream",
          "name": "stdout",
          "text": [
            "Found 35 images belonging to 2 classes.\n"
          ]
        }
      ]
    },
    {
      "cell_type": "code",
      "source": [
        "# early stop and checkpoints\n",
        "\n",
        "from keras.callbacks import ModelCheckpoint, EarlyStopping\n",
        "\n",
        "es = EarlyStopping(monitor='val_accuracy', min_delta= 0.2, patience = 10, verbose = 1, mode = 'auto')\n",
        "mcp = ModelCheckpoint(monitor='val_accuracy', filepath= './bestmodel.h5', verbose = 1, save_best_only = True, mode = 'auto')\n",
        "\n",
        "cb = [es, mcp]"
      ],
      "metadata": {
        "id": "dRcn5YZDjnbf"
      },
      "execution_count": 19,
      "outputs": []
    },
    {
      "cell_type": "code",
      "source": [
        "history = model.fit(train_image, epochs = 15, verbose = 1, callbacks = cb, validation_data = val_image)"
      ],
      "metadata": {
        "id": "ZVvgC5ouk_t3",
        "colab": {
          "base_uri": "https://localhost:8080/"
        },
        "outputId": "6dbc80cb-39af-481e-c3a3-5a0ab5b1acf8"
      },
      "execution_count": 21,
      "outputs": [
        {
          "output_type": "stream",
          "name": "stdout",
          "text": [
            "Epoch 1/15\n",
            "6/6 [==============================] - ETA: 0s - loss: 0.5004 - accuracy: 0.7735\n",
            "Epoch 1: val_accuracy did not improve from 0.77143\n",
            "6/6 [==============================] - 3s 496ms/step - loss: 0.5004 - accuracy: 0.7735 - val_loss: 0.5110 - val_accuracy: 0.7714\n",
            "Epoch 2/15\n",
            "6/6 [==============================] - ETA: 0s - loss: 0.5410 - accuracy: 0.7182\n",
            "Epoch 2: val_accuracy did not improve from 0.77143\n",
            "6/6 [==============================] - 4s 617ms/step - loss: 0.5410 - accuracy: 0.7182 - val_loss: 0.6670 - val_accuracy: 0.6857\n",
            "Epoch 3/15\n",
            "6/6 [==============================] - ETA: 0s - loss: 0.5480 - accuracy: 0.7182\n",
            "Epoch 3: val_accuracy did not improve from 0.77143\n",
            "6/6 [==============================] - 3s 485ms/step - loss: 0.5480 - accuracy: 0.7182 - val_loss: 0.5050 - val_accuracy: 0.7714\n",
            "Epoch 4/15\n",
            "6/6 [==============================] - ETA: 0s - loss: 0.4756 - accuracy: 0.7569\n",
            "Epoch 4: val_accuracy did not improve from 0.77143\n",
            "6/6 [==============================] - 3s 512ms/step - loss: 0.4756 - accuracy: 0.7569 - val_loss: 0.4764 - val_accuracy: 0.7429\n",
            "Epoch 5/15\n",
            "6/6 [==============================] - ETA: 0s - loss: 0.5959 - accuracy: 0.7072\n",
            "Epoch 5: val_accuracy improved from 0.77143 to 0.80000, saving model to ./bestmodel.h5\n",
            "6/6 [==============================] - 3s 507ms/step - loss: 0.5959 - accuracy: 0.7072 - val_loss: 0.4859 - val_accuracy: 0.8000\n",
            "Epoch 6/15\n",
            "6/6 [==============================] - ETA: 0s - loss: 0.5046 - accuracy: 0.7735\n",
            "Epoch 6: val_accuracy did not improve from 0.80000\n",
            "6/6 [==============================] - 4s 651ms/step - loss: 0.5046 - accuracy: 0.7735 - val_loss: 0.5630 - val_accuracy: 0.7429\n",
            "Epoch 7/15\n",
            "6/6 [==============================] - ETA: 0s - loss: 0.4947 - accuracy: 0.7790\n",
            "Epoch 7: val_accuracy did not improve from 0.80000\n",
            "6/6 [==============================] - 3s 478ms/step - loss: 0.4947 - accuracy: 0.7790 - val_loss: 0.5467 - val_accuracy: 0.8000\n",
            "Epoch 8/15\n",
            "6/6 [==============================] - ETA: 0s - loss: 0.5200 - accuracy: 0.7293\n",
            "Epoch 8: val_accuracy improved from 0.80000 to 0.82857, saving model to ./bestmodel.h5\n",
            "6/6 [==============================] - 3s 513ms/step - loss: 0.5200 - accuracy: 0.7293 - val_loss: 0.5074 - val_accuracy: 0.8286\n",
            "Epoch 9/15\n",
            "6/6 [==============================] - ETA: 0s - loss: 0.5045 - accuracy: 0.7514\n",
            "Epoch 9: val_accuracy did not improve from 0.82857\n",
            "6/6 [==============================] - 3s 484ms/step - loss: 0.5045 - accuracy: 0.7514 - val_loss: 0.4797 - val_accuracy: 0.7429\n",
            "Epoch 10/15\n",
            "6/6 [==============================] - ETA: 0s - loss: 0.4443 - accuracy: 0.8287\n",
            "Epoch 10: val_accuracy did not improve from 0.82857\n",
            "6/6 [==============================] - 4s 666ms/step - loss: 0.4443 - accuracy: 0.8287 - val_loss: 0.4757 - val_accuracy: 0.8286\n",
            "Epoch 11/15\n",
            "6/6 [==============================] - ETA: 0s - loss: 0.4841 - accuracy: 0.7956\n",
            "Epoch 11: val_accuracy did not improve from 0.82857\n",
            "6/6 [==============================] - 3s 486ms/step - loss: 0.4841 - accuracy: 0.7956 - val_loss: 0.4713 - val_accuracy: 0.8000\n",
            "Epoch 11: early stopping\n"
          ]
        }
      ]
    },
    {
      "cell_type": "code",
      "source": [
        "import matplotlib.pyplot as plt"
      ],
      "metadata": {
        "id": "MYYEBUhLBeTL"
      },
      "execution_count": 22,
      "outputs": []
    },
    {
      "cell_type": "code",
      "source": [
        "# loss function\n",
        "\n",
        "plt.plot(history.history['loss'])\n",
        "plt.plot(history.history['val_loss'])\n",
        "\n",
        "plt.title('Loss Function')\n",
        "plt.legend(['train_loss', 'Val_loss'])\n",
        "plt.show()"
      ],
      "metadata": {
        "colab": {
          "base_uri": "https://localhost:8080/",
          "height": 281
        },
        "id": "QkPz-zsU-RZl",
        "outputId": "8d0cfc85-44d5-4fed-8dbc-70d34f997321"
      },
      "execution_count": 23,
      "outputs": [
        {
          "output_type": "display_data",
          "data": {
            "text/plain": [
              "<Figure size 432x288 with 1 Axes>"
            ],
            "image/png": "[encoded data removed]"
          },
          "metadata": {
            "needs_background": "light"
          }
        }
      ]
    },
    {
      "cell_type": "code",
      "source": [
        "# accuarcy\n",
        "\n",
        "plt.plot(history.history['accuracy'])\n",
        "plt.plot(history.history['val_accuracy'])\n",
        "\n",
        "plt.title('ACC Function')\n",
        "plt.legend(['train_acc', 'Val_acc'])\n",
        "plt.show()"
      ],
      "metadata": {
        "colab": {
          "base_uri": "https://localhost:8080/",
          "height": 281
        },
        "id": "GkusNO04B60a",
        "outputId": "50cbb3f1-d477-4493-e346-33f3afefabae"
      },
      "execution_count": 24,
      "outputs": [
        {
          "output_type": "display_data",
          "data": {
            "text/plain": [
              "<Figure size 432x288 with 1 Axes>"
            ],
            "image/png": "[encoded data removed]"
          },
          "metadata": {
            "needs_background": "light"
          }
        }
      ]
    },
    {
      "cell_type": "code",
      "source": [
        "# model accuracy\n",
        "\n",
        "from keras.models import load_model\n",
        "\n",
        "best_model = load_model(\"/content/bestmodel.h5\")"
      ],
      "metadata": {
        "id": "qCeMBIp6CNDj"
      },
      "execution_count": 25,
      "outputs": []
    },
    {
      "cell_type": "code",
      "source": [
        "loss, acc = model.evaluate(test_image) \n",
        "print('The accuracy score is', acc)"
      ],
      "metadata": {
        "colab": {
          "base_uri": "https://localhost:8080/"
        },
        "id": "7T9stW63ChEZ",
        "outputId": "19fb3087-a641-4404-ded4-ef3a18147bce"
      },
      "execution_count": 26,
      "outputs": [
        {
          "output_type": "stream",
          "name": "stdout",
          "text": [
            "2/2 [==============================] - 0s 157ms/step - loss: 0.3793 - accuracy: 0.8182\n",
            "The accuracy score is 0.8181818127632141\n"
          ]
        }
      ]
    },
    {
      "cell_type": "code",
      "source": [
        "y_pred = model.predict(test_image, verbose = 1)"
      ],
      "metadata": {
        "id": "dPBBr_kStU3E"
      },
      "execution_count": null,
      "outputs": []
    },
    {
      "cell_type": "code",
      "source": [
        "y_pred_classes = (y_pred > 0.5).astype(\"int32\")"
      ],
      "metadata": {
        "id": "7HRn1G8Tth0l"
      },
      "execution_count": 34,
      "outputs": []
    },
    {
      "cell_type": "code",
      "source": [
        "y_pred"
      ],
      "metadata": {
        "colab": {
          "base_uri": "https://localhost:8080/"
        },
        "id": "0WqOAVDGu6Kl",
        "outputId": "9885ad5f-e4e8-4b3e-b0fd-a9e047121459"
      },
      "execution_count": 36,
      "outputs": [
        {
          "output_type": "execute_result",
          "data": {
            "text/plain": [
              "array([[0.10964774],\n",
              "       [0.08302811],\n",
              "       [0.17683439],\n",
              "       [0.17337649],\n",
              "       [0.7096987 ],\n",
              "       [0.09697156],\n",
              "       [0.80082077],\n",
              "       [0.8088817 ],\n",
              "       [0.46671727],\n",
              "       [0.48562407],\n",
              "       [0.03850948],\n",
              "       [0.24679376],\n",
              "       [0.99939203],\n",
              "       [0.60894585],\n",
              "       [0.788583  ],\n",
              "       [0.05467504],\n",
              "       [0.71128356],\n",
              "       [0.06058143],\n",
              "       [0.41414028],\n",
              "       [0.08302811],\n",
              "       [0.0268594 ],\n",
              "       [0.05467504],\n",
              "       [0.17265946],\n",
              "       [0.07095489],\n",
              "       [0.17221144],\n",
              "       [0.05728429],\n",
              "       [0.20996267],\n",
              "       [0.02759153],\n",
              "       [0.19788316],\n",
              "       [0.05752741],\n",
              "       [0.998939  ],\n",
              "       [0.26074445],\n",
              "       [0.4685557 ]], dtype=float32)"
            ]
          },
          "metadata": {},
          "execution_count": 36
        }
      ]
    },
    {
      "cell_type": "code",
      "source": [
        "y_pred_classes"
      ],
      "metadata": {
        "colab": {
          "base_uri": "https://localhost:8080/"
        },
        "id": "zz9ugheUu2Ji",
        "outputId": "cbf891b9-8bd3-4a8f-93be-b9353904185e"
      },
      "execution_count": 37,
      "outputs": [
        {
          "output_type": "execute_result",
          "data": {
            "text/plain": [
              "array([[0],\n",
              "       [0],\n",
              "       [0],\n",
              "       [0],\n",
              "       [1],\n",
              "       [0],\n",
              "       [1],\n",
              "       [1],\n",
              "       [0],\n",
              "       [0],\n",
              "       [0],\n",
              "       [0],\n",
              "       [1],\n",
              "       [1],\n",
              "       [1],\n",
              "       [0],\n",
              "       [1],\n",
              "       [0],\n",
              "       [0],\n",
              "       [0],\n",
              "       [0],\n",
              "       [0],\n",
              "       [0],\n",
              "       [0],\n",
              "       [0],\n",
              "       [0],\n",
              "       [0],\n",
              "       [0],\n",
              "       [0],\n",
              "       [0],\n",
              "       [1],\n",
              "       [0],\n",
              "       [0]], dtype=int32)"
            ]
          },
          "metadata": {},
          "execution_count": 37
        }
      ]
    },
    {
      "cell_type": "markdown",
      "source": [
        "## Make Prediction"
      ],
      "metadata": {
        "id": "979uTzrlwk-S"
      }
    },
    {
      "cell_type": "code",
      "source": [
        "from keras.utils.image_utils import img_to_array, load_img"
      ],
      "metadata": {
        "id": "Ia81ALcMwh-C"
      },
      "execution_count": 43,
      "outputs": []
    },
    {
      "cell_type": "code",
      "source": [
        "path = \"/content/Brain_Tumor_Dataset/Brain_Tumor/Y170.JPG\"\n",
        "\n",
        "img = load_img(path, target_size = (256,256))\n",
        "\n",
        "input_arr = img_to_array(img)/255\n",
        "\n",
        "input_array = np.expand_dims(input_arr, axis =0)\n",
        "\n",
        "pred_prob = model.predict(input_array)\n",
        "\n",
        "pred_value = (pred_prob > 0.5).astype(\"int32\")\n",
        "\n",
        "if pred_value == 0:\n",
        "  print(\"Brain Tumor\")\n",
        "else:\n",
        "  print(\"Healthy\")\n"
      ],
      "metadata": {
        "colab": {
          "base_uri": "https://localhost:8080/"
        },
        "id": "xqislJtXxvPS",
        "outputId": "e26b2e9f-741c-4a68-c123-70d02fcd4204"
      },
      "execution_count": 45,
      "outputs": [
        {
          "output_type": "stream",
          "name": "stdout",
          "text": [
            "1/1 [==============================] - 0s 113ms/step\n",
            "Brain Tumor\n"
          ]
        }
      ]
    }
  ]
}
