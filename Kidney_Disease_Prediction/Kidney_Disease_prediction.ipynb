{
  "nbformat": 4,
  "nbformat_minor": 0,
  "metadata": {
    "colab": {
      "provenance": []
    },
    "kernelspec": {
      "name": "python3",
      "display_name": "Python 3"
    },
    "language_info": {
      "name": "python"
    }
  },
  "cells": [
    {
      "cell_type": "markdown",
      "source": [
        "## EDA and Data Pre-processing"
      ],
      "metadata": {
        "id": "pRxgzTQnfDqT"
      }
    },
    {
      "cell_type": "markdown",
      "source": [
        "import libraries -> import data -> read data -> find no of attributes -> deal with null values -> find unique value -> fix undesired characters -> check for label imbalance -> fix the data type -> find and remove the outliers (not needed here) -> encode the data -> find and plot co-relations -> separate data and label -> fix label imbalance (if needed) -> scaling -> applying PCA -> train_test split"
      ],
      "metadata": {
        "id": "Swo-jdRJgZIz"
      }
    },
    {
      "cell_type": "code",
      "execution_count": 2,
      "metadata": {
        "id": "YoQeQCjBe4Xh"
      },
      "outputs": [],
      "source": [
        "import numpy as np\n",
        "import pandas as pd\n",
        "from sklearn.impute import SimpleImputer\n",
        "import seaborn as sns\n",
        "import matplotlib.pyplot as plt\n",
        "from sklearn import preprocessing\n",
        "from imblearn.over_sampling import RandomOverSampler\n",
        "from sklearn.preprocessing import MinMaxScaler\n",
        "from sklearn.decomposition import PCA\n",
        "from sklearn.model_selection import train_test_split"
      ]
    },
    {
      "cell_type": "code",
      "source": [
        "df = pd.read_csv('/content/kidney_disease.csv')\n",
        "df.head()"
      ],
      "metadata": {
        "colab": {
          "base_uri": "https://localhost:8080/",
          "height": 235
        },
        "id": "6AtslhYbzFhp",
        "outputId": "a1b7251d-4339-45ba-e469-9e766b79f02a"
      },
      "execution_count": 3,
      "outputs": [
        {
          "output_type": "execute_result",
          "data": {
            "text/plain": [
              "   id   age    bp     sg   al   su     rbc        pc         pcc          ba  \\\n",
              "0   0  48.0  80.0  1.020  1.0  0.0     NaN    normal  notpresent  notpresent   \n",
              "1   1   7.0  50.0  1.020  4.0  0.0     NaN    normal  notpresent  notpresent   \n",
              "2   2  62.0  80.0  1.010  2.0  3.0  normal    normal  notpresent  notpresent   \n",
              "3   3  48.0  70.0  1.005  4.0  0.0  normal  abnormal     present  notpresent   \n",
              "4   4  51.0  80.0  1.010  2.0  0.0  normal    normal  notpresent  notpresent   \n",
              "\n",
              "   ...  pcv    wc   rc  htn   dm  cad appet   pe  ane classification  \n",
              "0  ...   44  7800  5.2  yes  yes   no  good   no   no            ckd  \n",
              "1  ...   38  6000  NaN   no   no   no  good   no   no            ckd  \n",
              "2  ...   31  7500  NaN   no  yes   no  poor   no  yes            ckd  \n",
              "3  ...   32  6700  3.9  yes   no   no  poor  yes  yes            ckd  \n",
              "4  ...   35  7300  4.6   no   no   no  good   no   no            ckd  \n",
              "\n",
              "[5 rows x 26 columns]"
            ],
            "text/html": [
              "\n",
              "  <div id=\"df-b31ab4dc-4443-439c-afc6-96352fedc538\">\n",
              "    <div class=\"colab-df-container\">\n",
              "      <div>\n",
              "<style scoped>\n",
              "    .dataframe tbody tr th:only-of-type {\n",
              "        vertical-align: middle;\n",
              "    }\n",
              "\n",
              "    .dataframe tbody tr th {\n",
              "        vertical-align: top;\n",
              "    }\n",
              "\n",
              "    .dataframe thead th {\n",
              "        text-align: right;\n",
              "    }\n",
              "</style>\n",
              "<table border=\"1\" class=\"dataframe\">\n",
              "  <thead>\n",
              "    <tr style=\"text-align: right;\">\n",
              "      <th></th>\n",
              "      <th>id</th>\n",
              "      <th>age</th>\n",
              "      <th>bp</th>\n",
              "      <th>sg</th>\n",
              "      <th>al</th>\n",
              "      <th>su</th>\n",
              "      <th>rbc</th>\n",
              "      <th>pc</th>\n",
              "      <th>pcc</th>\n",
              "      <th>ba</th>\n",
              "      <th>...</th>\n",
              "      <th>pcv</th>\n",
              "      <th>wc</th>\n",
              "      <th>rc</th>\n",
              "      <th>htn</th>\n",
              "      <th>dm</th>\n",
              "      <th>cad</th>\n",
              "      <th>appet</th>\n",
              "      <th>pe</th>\n",
              "      <th>ane</th>\n",
              "      <th>classification</th>\n",
              "    </tr>\n",
              "  </thead>\n",
              "  <tbody>\n",
              "    <tr>\n",
              "      <th>0</th>\n",
              "      <td>0</td>\n",
              "      <td>48.0</td>\n",
              "      <td>80.0</td>\n",
              "      <td>1.020</td>\n",
              "      <td>1.0</td>\n",
              "      <td>0.0</td>\n",
              "      <td>NaN</td>\n",
              "      <td>normal</td>\n",
              "      <td>notpresent</td>\n",
              "      <td>notpresent</td>\n",
              "      <td>...</td>\n",
              "      <td>44</td>\n",
              "      <td>7800</td>\n",
              "      <td>5.2</td>\n",
              "      <td>yes</td>\n",
              "      <td>yes</td>\n",
              "      <td>no</td>\n",
              "      <td>good</td>\n",
              "      <td>no</td>\n",
              "      <td>no</td>\n",
              "      <td>ckd</td>\n",
              "    </tr>\n",
              "    <tr>\n",
              "      <th>1</th>\n",
              "      <td>1</td>\n",
              "      <td>7.0</td>\n",
              "      <td>50.0</td>\n",
              "      <td>1.020</td>\n",
              "      <td>4.0</td>\n",
              "      <td>0.0</td>\n",
              "      <td>NaN</td>\n",
              "      <td>normal</td>\n",
              "      <td>notpresent</td>\n",
              "      <td>notpresent</td>\n",
              "      <td>...</td>\n",
              "      <td>38</td>\n",
              "      <td>6000</td>\n",
              "      <td>NaN</td>\n",
              "      <td>no</td>\n",
              "      <td>no</td>\n",
              "      <td>no</td>\n",
              "      <td>good</td>\n",
              "      <td>no</td>\n",
              "      <td>no</td>\n",
              "      <td>ckd</td>\n",
              "    </tr>\n",
              "    <tr>\n",
              "      <th>2</th>\n",
              "      <td>2</td>\n",
              "      <td>62.0</td>\n",
              "      <td>80.0</td>\n",
              "      <td>1.010</td>\n",
              "      <td>2.0</td>\n",
              "      <td>3.0</td>\n",
              "      <td>normal</td>\n",
              "      <td>normal</td>\n",
              "      <td>notpresent</td>\n",
              "      <td>notpresent</td>\n",
              "      <td>...</td>\n",
              "      <td>31</td>\n",
              "      <td>7500</td>\n",
              "      <td>NaN</td>\n",
              "      <td>no</td>\n",
              "      <td>yes</td>\n",
              "      <td>no</td>\n",
              "      <td>poor</td>\n",
              "      <td>no</td>\n",
              "      <td>yes</td>\n",
              "      <td>ckd</td>\n",
              "    </tr>\n",
              "    <tr>\n",
              "      <th>3</th>\n",
              "      <td>3</td>\n",
              "      <td>48.0</td>\n",
              "      <td>70.0</td>\n",
              "      <td>1.005</td>\n",
              "      <td>4.0</td>\n",
              "      <td>0.0</td>\n",
              "      <td>normal</td>\n",
              "      <td>abnormal</td>\n",
              "      <td>present</td>\n",
              "      <td>notpresent</td>\n",
              "      <td>...</td>\n",
              "      <td>32</td>\n",
              "      <td>6700</td>\n",
              "      <td>3.9</td>\n",
              "      <td>yes</td>\n",
              "      <td>no</td>\n",
              "      <td>no</td>\n",
              "      <td>poor</td>\n",
              "      <td>yes</td>\n",
              "      <td>yes</td>\n",
              "      <td>ckd</td>\n",
              "    </tr>\n",
              "    <tr>\n",
              "      <th>4</th>\n",
              "      <td>4</td>\n",
              "      <td>51.0</td>\n",
              "      <td>80.0</td>\n",
              "      <td>1.010</td>\n",
              "      <td>2.0</td>\n",
              "      <td>0.0</td>\n",
              "      <td>normal</td>\n",
              "      <td>normal</td>\n",
              "      <td>notpresent</td>\n",
              "      <td>notpresent</td>\n",
              "      <td>...</td>\n",
              "      <td>35</td>\n",
              "      <td>7300</td>\n",
              "      <td>4.6</td>\n",
              "      <td>no</td>\n",
              "      <td>no</td>\n",
              "      <td>no</td>\n",
              "      <td>good</td>\n",
              "      <td>no</td>\n",
              "      <td>no</td>\n",
              "      <td>ckd</td>\n",
              "    </tr>\n",
              "  </tbody>\n",
              "</table>\n",
              "<p>5 rows × 26 columns</p>\n",
              "</div>\n",
              "      <button class=\"colab-df-convert\" onclick=\"convertToInteractive('df-b31ab4dc-4443-439c-afc6-96352fedc538')\"\n",
              "              title=\"Convert this dataframe to an interactive table.\"\n",
              "              style=\"display:none;\">\n",
              "        \n",
              "  <svg xmlns=\"http://www.w3.org/2000/svg\" height=\"24px\"viewBox=\"0 0 24 24\"\n",
              "       width=\"24px\">\n",
              "    <path d=\"M0 0h24v24H0V0z\" fill=\"none\"/>\n",
              "    <path d=\"M18.56 5.44l.94 2.06.94-2.06 2.06-.94-2.06-.94-.94-2.06-.94 2.06-2.06.94zm-11 1L8.5 8.5l.94-2.06 2.06-.94-2.06-.94L8.5 2.5l-.94 2.06-2.06.94zm10 10l.94 2.06.94-2.06 2.06-.94-2.06-.94-.94-2.06-.94 2.06-2.06.94z\"/><path d=\"M17.41 7.96l-1.37-1.37c-.4-.4-.92-.59-1.43-.59-.52 0-1.04.2-1.43.59L10.3 9.45l-7.72 7.72c-.78.78-.78 2.05 0 2.83L4 21.41c.39.39.9.59 1.41.59.51 0 1.02-.2 1.41-.59l7.78-7.78 2.81-2.81c.8-.78.8-2.07 0-2.86zM5.41 20L4 18.59l7.72-7.72 1.47 1.35L5.41 20z\"/>\n",
              "  </svg>\n",
              "      </button>\n",
              "      \n",
              "  <style>\n",
              "    .colab-df-container {\n",
              "      display:flex;\n",
              "      flex-wrap:wrap;\n",
              "      gap: 12px;\n",
              "    }\n",
              "\n",
              "    .colab-df-convert {\n",
              "      background-color: #E8F0FE;\n",
              "      border: none;\n",
              "      border-radius: 50%;\n",
              "      cursor: pointer;\n",
              "      display: none;\n",
              "      fill: #1967D2;\n",
              "      height: 32px;\n",
              "      padding: 0 0 0 0;\n",
              "      width: 32px;\n",
              "    }\n",
              "\n",
              "    .colab-df-convert:hover {\n",
              "      background-color: #E2EBFA;\n",
              "      box-shadow: 0px 1px 2px rgba(60, 64, 67, 0.3), 0px 1px 3px 1px rgba(60, 64, 67, 0.15);\n",
              "      fill: #174EA6;\n",
              "    }\n",
              "\n",
              "    [theme=dark] .colab-df-convert {\n",
              "      background-color: #3B4455;\n",
              "      fill: #D2E3FC;\n",
              "    }\n",
              "\n",
              "    [theme=dark] .colab-df-convert:hover {\n",
              "      background-color: #434B5C;\n",
              "      box-shadow: 0px 1px 3px 1px rgba(0, 0, 0, 0.15);\n",
              "      filter: drop-shadow(0px 1px 2px rgba(0, 0, 0, 0.3));\n",
              "      fill: #FFFFFF;\n",
              "    }\n",
              "  </style>\n",
              "\n",
              "      <script>\n",
              "        const buttonEl =\n",
              "          document.querySelector('#df-b31ab4dc-4443-439c-afc6-96352fedc538 button.colab-df-convert');\n",
              "        buttonEl.style.display =\n",
              "          google.colab.kernel.accessAllowed ? 'block' : 'none';\n",
              "\n",
              "        async function convertToInteractive(key) {\n",
              "          const element = document.querySelector('#df-b31ab4dc-4443-439c-afc6-96352fedc538');\n",
              "          const dataTable =\n",
              "            await google.colab.kernel.invokeFunction('convertToInteractive',\n",
              "                                                     [key], {});\n",
              "          if (!dataTable) return;\n",
              "\n",
              "          const docLinkHtml = 'Like what you see? Visit the ' +\n",
              "            '<a target=\"_blank\" href=https://colab.research.google.com/notebooks/data_table.ipynb>data table notebook</a>'\n",
              "            + ' to learn more about interactive tables.';\n",
              "          element.innerHTML = '';\n",
              "          dataTable['output_type'] = 'display_data';\n",
              "          await google.colab.output.renderOutput(dataTable, element);\n",
              "          const docLink = document.createElement('div');\n",
              "          docLink.innerHTML = docLinkHtml;\n",
              "          element.appendChild(docLink);\n",
              "        }\n",
              "      </script>\n",
              "    </div>\n",
              "  </div>\n",
              "  "
            ]
          },
          "metadata": {},
          "execution_count": 3
        }
      ]
    },
    {
      "cell_type": "code",
      "source": [
        "df.tail()"
      ],
      "metadata": {
        "colab": {
          "base_uri": "https://localhost:8080/",
          "height": 235
        },
        "id": "EUppS4zd7Bpt",
        "outputId": "bd57b44d-d8f3-4007-ddb5-a69b3f874383"
      },
      "execution_count": 4,
      "outputs": [
        {
          "output_type": "execute_result",
          "data": {
            "text/plain": [
              "      id   age    bp     sg   al   su     rbc      pc         pcc          ba  \\\n",
              "395  395  55.0  80.0  1.020  0.0  0.0  normal  normal  notpresent  notpresent   \n",
              "396  396  42.0  70.0  1.025  0.0  0.0  normal  normal  notpresent  notpresent   \n",
              "397  397  12.0  80.0  1.020  0.0  0.0  normal  normal  notpresent  notpresent   \n",
              "398  398  17.0  60.0  1.025  0.0  0.0  normal  normal  notpresent  notpresent   \n",
              "399  399  58.0  80.0  1.025  0.0  0.0  normal  normal  notpresent  notpresent   \n",
              "\n",
              "     ...  pcv    wc   rc  htn  dm  cad appet  pe ane classification  \n",
              "395  ...   47  6700  4.9   no  no   no  good  no  no         notckd  \n",
              "396  ...   54  7800  6.2   no  no   no  good  no  no         notckd  \n",
              "397  ...   49  6600  5.4   no  no   no  good  no  no         notckd  \n",
              "398  ...   51  7200  5.9   no  no   no  good  no  no         notckd  \n",
              "399  ...   53  6800  6.1   no  no   no  good  no  no         notckd  \n",
              "\n",
              "[5 rows x 26 columns]"
            ],
            "text/html": [
              "\n",
              "  <div id=\"df-8df1593a-ab95-49ae-b5de-dbca82d714c9\">\n",
              "    <div class=\"colab-df-container\">\n",
              "      <div>\n",
              "<style scoped>\n",
              "    .dataframe tbody tr th:only-of-type {\n",
              "        vertical-align: middle;\n",
              "    }\n",
              "\n",
              "    .dataframe tbody tr th {\n",
              "        vertical-align: top;\n",
              "    }\n",
              "\n",
              "    .dataframe thead th {\n",
              "        text-align: right;\n",
              "    }\n",
              "</style>\n",
              "<table border=\"1\" class=\"dataframe\">\n",
              "  <thead>\n",
              "    <tr style=\"text-align: right;\">\n",
              "      <th></th>\n",
              "      <th>id</th>\n",
              "      <th>age</th>\n",
              "      <th>bp</th>\n",
              "      <th>sg</th>\n",
              "      <th>al</th>\n",
              "      <th>su</th>\n",
              "      <th>rbc</th>\n",
              "      <th>pc</th>\n",
              "      <th>pcc</th>\n",
              "      <th>ba</th>\n",
              "      <th>...</th>\n",
              "      <th>pcv</th>\n",
              "      <th>wc</th>\n",
              "      <th>rc</th>\n",
              "      <th>htn</th>\n",
              "      <th>dm</th>\n",
              "      <th>cad</th>\n",
              "      <th>appet</th>\n",
              "      <th>pe</th>\n",
              "      <th>ane</th>\n",
              "      <th>classification</th>\n",
              "    </tr>\n",
              "  </thead>\n",
              "  <tbody>\n",
              "    <tr>\n",
              "      <th>395</th>\n",
              "      <td>395</td>\n",
              "      <td>55.0</td>\n",
              "      <td>80.0</td>\n",
              "      <td>1.020</td>\n",
              "      <td>0.0</td>\n",
              "      <td>0.0</td>\n",
              "      <td>normal</td>\n",
              "      <td>normal</td>\n",
              "      <td>notpresent</td>\n",
              "      <td>notpresent</td>\n",
              "      <td>...</td>\n",
              "      <td>47</td>\n",
              "      <td>6700</td>\n",
              "      <td>4.9</td>\n",
              "      <td>no</td>\n",
              "      <td>no</td>\n",
              "      <td>no</td>\n",
              "      <td>good</td>\n",
              "      <td>no</td>\n",
              "      <td>no</td>\n",
              "      <td>notckd</td>\n",
              "    </tr>\n",
              "    <tr>\n",
              "      <th>396</th>\n",
              "      <td>396</td>\n",
              "      <td>42.0</td>\n",
              "      <td>70.0</td>\n",
              "      <td>1.025</td>\n",
              "      <td>0.0</td>\n",
              "      <td>0.0</td>\n",
              "      <td>normal</td>\n",
              "      <td>normal</td>\n",
              "      <td>notpresent</td>\n",
              "      <td>notpresent</td>\n",
              "      <td>...</td>\n",
              "      <td>54</td>\n",
              "      <td>7800</td>\n",
              "      <td>6.2</td>\n",
              "      <td>no</td>\n",
              "      <td>no</td>\n",
              "      <td>no</td>\n",
              "      <td>good</td>\n",
              "      <td>no</td>\n",
              "      <td>no</td>\n",
              "      <td>notckd</td>\n",
              "    </tr>\n",
              "    <tr>\n",
              "      <th>397</th>\n",
              "      <td>397</td>\n",
              "      <td>12.0</td>\n",
              "      <td>80.0</td>\n",
              "      <td>1.020</td>\n",
              "      <td>0.0</td>\n",
              "      <td>0.0</td>\n",
              "      <td>normal</td>\n",
              "      <td>normal</td>\n",
              "      <td>notpresent</td>\n",
              "      <td>notpresent</td>\n",
              "      <td>...</td>\n",
              "      <td>49</td>\n",
              "      <td>6600</td>\n",
              "      <td>5.4</td>\n",
              "      <td>no</td>\n",
              "      <td>no</td>\n",
              "      <td>no</td>\n",
              "      <td>good</td>\n",
              "      <td>no</td>\n",
              "      <td>no</td>\n",
              "      <td>notckd</td>\n",
              "    </tr>\n",
              "    <tr>\n",
              "      <th>398</th>\n",
              "      <td>398</td>\n",
              "      <td>17.0</td>\n",
              "      <td>60.0</td>\n",
              "      <td>1.025</td>\n",
              "      <td>0.0</td>\n",
              "      <td>0.0</td>\n",
              "      <td>normal</td>\n",
              "      <td>normal</td>\n",
              "      <td>notpresent</td>\n",
              "      <td>notpresent</td>\n",
              "      <td>...</td>\n",
              "      <td>51</td>\n",
              "      <td>7200</td>\n",
              "      <td>5.9</td>\n",
              "      <td>no</td>\n",
              "      <td>no</td>\n",
              "      <td>no</td>\n",
              "      <td>good</td>\n",
              "      <td>no</td>\n",
              "      <td>no</td>\n",
              "      <td>notckd</td>\n",
              "    </tr>\n",
              "    <tr>\n",
              "      <th>399</th>\n",
              "      <td>399</td>\n",
              "      <td>58.0</td>\n",
              "      <td>80.0</td>\n",
              "      <td>1.025</td>\n",
              "      <td>0.0</td>\n",
              "      <td>0.0</td>\n",
              "      <td>normal</td>\n",
              "      <td>normal</td>\n",
              "      <td>notpresent</td>\n",
              "      <td>notpresent</td>\n",
              "      <td>...</td>\n",
              "      <td>53</td>\n",
              "      <td>6800</td>\n",
              "      <td>6.1</td>\n",
              "      <td>no</td>\n",
              "      <td>no</td>\n",
              "      <td>no</td>\n",
              "      <td>good</td>\n",
              "      <td>no</td>\n",
              "      <td>no</td>\n",
              "      <td>notckd</td>\n",
              "    </tr>\n",
              "  </tbody>\n",
              "</table>\n",
              "<p>5 rows × 26 columns</p>\n",
              "</div>\n",
              "      <button class=\"colab-df-convert\" onclick=\"convertToInteractive('df-8df1593a-ab95-49ae-b5de-dbca82d714c9')\"\n",
              "              title=\"Convert this dataframe to an interactive table.\"\n",
              "              style=\"display:none;\">\n",
              "        \n",
              "  <svg xmlns=\"http://www.w3.org/2000/svg\" height=\"24px\"viewBox=\"0 0 24 24\"\n",
              "       width=\"24px\">\n",
              "    <path d=\"M0 0h24v24H0V0z\" fill=\"none\"/>\n",
              "    <path d=\"M18.56 5.44l.94 2.06.94-2.06 2.06-.94-2.06-.94-.94-2.06-.94 2.06-2.06.94zm-11 1L8.5 8.5l.94-2.06 2.06-.94-2.06-.94L8.5 2.5l-.94 2.06-2.06.94zm10 10l.94 2.06.94-2.06 2.06-.94-2.06-.94-.94-2.06-.94 2.06-2.06.94z\"/><path d=\"M17.41 7.96l-1.37-1.37c-.4-.4-.92-.59-1.43-.59-.52 0-1.04.2-1.43.59L10.3 9.45l-7.72 7.72c-.78.78-.78 2.05 0 2.83L4 21.41c.39.39.9.59 1.41.59.51 0 1.02-.2 1.41-.59l7.78-7.78 2.81-2.81c.8-.78.8-2.07 0-2.86zM5.41 20L4 18.59l7.72-7.72 1.47 1.35L5.41 20z\"/>\n",
              "  </svg>\n",
              "      </button>\n",
              "      \n",
              "  <style>\n",
              "    .colab-df-container {\n",
              "      display:flex;\n",
              "      flex-wrap:wrap;\n",
              "      gap: 12px;\n",
              "    }\n",
              "\n",
              "    .colab-df-convert {\n",
              "      background-color: #E8F0FE;\n",
              "      border: none;\n",
              "      border-radius: 50%;\n",
              "      cursor: pointer;\n",
              "      display: none;\n",
              "      fill: #1967D2;\n",
              "      height: 32px;\n",
              "      padding: 0 0 0 0;\n",
              "      width: 32px;\n",
              "    }\n",
              "\n",
              "    .colab-df-convert:hover {\n",
              "      background-color: #E2EBFA;\n",
              "      box-shadow: 0px 1px 2px rgba(60, 64, 67, 0.3), 0px 1px 3px 1px rgba(60, 64, 67, 0.15);\n",
              "      fill: #174EA6;\n",
              "    }\n",
              "\n",
              "    [theme=dark] .colab-df-convert {\n",
              "      background-color: #3B4455;\n",
              "      fill: #D2E3FC;\n",
              "    }\n",
              "\n",
              "    [theme=dark] .colab-df-convert:hover {\n",
              "      background-color: #434B5C;\n",
              "      box-shadow: 0px 1px 3px 1px rgba(0, 0, 0, 0.15);\n",
              "      filter: drop-shadow(0px 1px 2px rgba(0, 0, 0, 0.3));\n",
              "      fill: #FFFFFF;\n",
              "    }\n",
              "  </style>\n",
              "\n",
              "      <script>\n",
              "        const buttonEl =\n",
              "          document.querySelector('#df-8df1593a-ab95-49ae-b5de-dbca82d714c9 button.colab-df-convert');\n",
              "        buttonEl.style.display =\n",
              "          google.colab.kernel.accessAllowed ? 'block' : 'none';\n",
              "\n",
              "        async function convertToInteractive(key) {\n",
              "          const element = document.querySelector('#df-8df1593a-ab95-49ae-b5de-dbca82d714c9');\n",
              "          const dataTable =\n",
              "            await google.colab.kernel.invokeFunction('convertToInteractive',\n",
              "                                                     [key], {});\n",
              "          if (!dataTable) return;\n",
              "\n",
              "          const docLinkHtml = 'Like what you see? Visit the ' +\n",
              "            '<a target=\"_blank\" href=https://colab.research.google.com/notebooks/data_table.ipynb>data table notebook</a>'\n",
              "            + ' to learn more about interactive tables.';\n",
              "          element.innerHTML = '';\n",
              "          dataTable['output_type'] = 'display_data';\n",
              "          await google.colab.output.renderOutput(dataTable, element);\n",
              "          const docLink = document.createElement('div');\n",
              "          docLink.innerHTML = docLinkHtml;\n",
              "          element.appendChild(docLink);\n",
              "        }\n",
              "      </script>\n",
              "    </div>\n",
              "  </div>\n",
              "  "
            ]
          },
          "metadata": {},
          "execution_count": 4
        }
      ]
    },
    {
      "cell_type": "code",
      "source": [
        "df.sample(5)"
      ],
      "metadata": {
        "colab": {
          "base_uri": "https://localhost:8080/",
          "height": 235
        },
        "id": "U1p9d9Bd7eL8",
        "outputId": "377414a8-2b93-4c90-f9e3-661e72e40f80"
      },
      "execution_count": 5,
      "outputs": [
        {
          "output_type": "execute_result",
          "data": {
            "text/plain": [
              "      id   age     bp     sg   al   su       rbc        pc         pcc  \\\n",
              "149  149  65.0   70.0  1.020  1.0  0.0  abnormal  abnormal  notpresent   \n",
              "298  298  34.0   60.0  1.020  0.0  0.0    normal    normal  notpresent   \n",
              "1      1   7.0   50.0  1.020  4.0  0.0       NaN    normal  notpresent   \n",
              "100  100  34.0   70.0  1.015  4.0  0.0  abnormal  abnormal  notpresent   \n",
              "90    90  63.0  100.0  1.010  2.0  2.0    normal    normal  notpresent   \n",
              "\n",
              "             ba  ...  pcv    wc   rc  htn  dm  cad appet   pe ane  \\\n",
              "149  notpresent  ...   32   NaN  NaN  yes  no   no  good  yes  no   \n",
              "298  notpresent  ...   48  8600  4.9   no  no   no  good   no  no   \n",
              "1    notpresent  ...   38  6000  NaN   no  no   no  good   no  no   \n",
              "100  notpresent  ...  NaN   NaN  NaN   no  no   no  good  yes  no   \n",
              "90      present  ...   40  9800  4.2  yes  no  yes  good   no  no   \n",
              "\n",
              "    classification  \n",
              "149            ckd  \n",
              "298         notckd  \n",
              "1              ckd  \n",
              "100            ckd  \n",
              "90             ckd  \n",
              "\n",
              "[5 rows x 26 columns]"
            ],
            "text/html": [
              "\n",
              "  <div id=\"df-f1b1e738-2453-46c3-967a-cc3d0d2e5ae5\">\n",
              "    <div class=\"colab-df-container\">\n",
              "      <div>\n",
              "<style scoped>\n",
              "    .dataframe tbody tr th:only-of-type {\n",
              "        vertical-align: middle;\n",
              "    }\n",
              "\n",
              "    .dataframe tbody tr th {\n",
              "        vertical-align: top;\n",
              "    }\n",
              "\n",
              "    .dataframe thead th {\n",
              "        text-align: right;\n",
              "    }\n",
              "</style>\n",
              "<table border=\"1\" class=\"dataframe\">\n",
              "  <thead>\n",
              "    <tr style=\"text-align: right;\">\n",
              "      <th></th>\n",
              "      <th>id</th>\n",
              "      <th>age</th>\n",
              "      <th>bp</th>\n",
              "      <th>sg</th>\n",
              "      <th>al</th>\n",
              "      <th>su</th>\n",
              "      <th>rbc</th>\n",
              "      <th>pc</th>\n",
              "      <th>pcc</th>\n",
              "      <th>ba</th>\n",
              "      <th>...</th>\n",
              "      <th>pcv</th>\n",
              "      <th>wc</th>\n",
              "      <th>rc</th>\n",
              "      <th>htn</th>\n",
              "      <th>dm</th>\n",
              "      <th>cad</th>\n",
              "      <th>appet</th>\n",
              "      <th>pe</th>\n",
              "      <th>ane</th>\n",
              "      <th>classification</th>\n",
              "    </tr>\n",
              "  </thead>\n",
              "  <tbody>\n",
              "    <tr>\n",
              "      <th>149</th>\n",
              "      <td>149</td>\n",
              "      <td>65.0</td>\n",
              "      <td>70.0</td>\n",
              "      <td>1.020</td>\n",
              "      <td>1.0</td>\n",
              "      <td>0.0</td>\n",
              "      <td>abnormal</td>\n",
              "      <td>abnormal</td>\n",
              "      <td>notpresent</td>\n",
              "      <td>notpresent</td>\n",
              "      <td>...</td>\n",
              "      <td>32</td>\n",
              "      <td>NaN</td>\n",
              "      <td>NaN</td>\n",
              "      <td>yes</td>\n",
              "      <td>no</td>\n",
              "      <td>no</td>\n",
              "      <td>good</td>\n",
              "      <td>yes</td>\n",
              "      <td>no</td>\n",
              "      <td>ckd</td>\n",
              "    </tr>\n",
              "    <tr>\n",
              "      <th>298</th>\n",
              "      <td>298</td>\n",
              "      <td>34.0</td>\n",
              "      <td>60.0</td>\n",
              "      <td>1.020</td>\n",
              "      <td>0.0</td>\n",
              "      <td>0.0</td>\n",
              "      <td>normal</td>\n",
              "      <td>normal</td>\n",
              "      <td>notpresent</td>\n",
              "      <td>notpresent</td>\n",
              "      <td>...</td>\n",
              "      <td>48</td>\n",
              "      <td>8600</td>\n",
              "      <td>4.9</td>\n",
              "      <td>no</td>\n",
              "      <td>no</td>\n",
              "      <td>no</td>\n",
              "      <td>good</td>\n",
              "      <td>no</td>\n",
              "      <td>no</td>\n",
              "      <td>notckd</td>\n",
              "    </tr>\n",
              "    <tr>\n",
              "      <th>1</th>\n",
              "      <td>1</td>\n",
              "      <td>7.0</td>\n",
              "      <td>50.0</td>\n",
              "      <td>1.020</td>\n",
              "      <td>4.0</td>\n",
              "      <td>0.0</td>\n",
              "      <td>NaN</td>\n",
              "      <td>normal</td>\n",
              "      <td>notpresent</td>\n",
              "      <td>notpresent</td>\n",
              "      <td>...</td>\n",
              "      <td>38</td>\n",
              "      <td>6000</td>\n",
              "      <td>NaN</td>\n",
              "      <td>no</td>\n",
              "      <td>no</td>\n",
              "      <td>no</td>\n",
              "      <td>good</td>\n",
              "      <td>no</td>\n",
              "      <td>no</td>\n",
              "      <td>ckd</td>\n",
              "    </tr>\n",
              "    <tr>\n",
              "      <th>100</th>\n",
              "      <td>100</td>\n",
              "      <td>34.0</td>\n",
              "      <td>70.0</td>\n",
              "      <td>1.015</td>\n",
              "      <td>4.0</td>\n",
              "      <td>0.0</td>\n",
              "      <td>abnormal</td>\n",
              "      <td>abnormal</td>\n",
              "      <td>notpresent</td>\n",
              "      <td>notpresent</td>\n",
              "      <td>...</td>\n",
              "      <td>NaN</td>\n",
              "      <td>NaN</td>\n",
              "      <td>NaN</td>\n",
              "      <td>no</td>\n",
              "      <td>no</td>\n",
              "      <td>no</td>\n",
              "      <td>good</td>\n",
              "      <td>yes</td>\n",
              "      <td>no</td>\n",
              "      <td>ckd</td>\n",
              "    </tr>\n",
              "    <tr>\n",
              "      <th>90</th>\n",
              "      <td>90</td>\n",
              "      <td>63.0</td>\n",
              "      <td>100.0</td>\n",
              "      <td>1.010</td>\n",
              "      <td>2.0</td>\n",
              "      <td>2.0</td>\n",
              "      <td>normal</td>\n",
              "      <td>normal</td>\n",
              "      <td>notpresent</td>\n",
              "      <td>present</td>\n",
              "      <td>...</td>\n",
              "      <td>40</td>\n",
              "      <td>9800</td>\n",
              "      <td>4.2</td>\n",
              "      <td>yes</td>\n",
              "      <td>no</td>\n",
              "      <td>yes</td>\n",
              "      <td>good</td>\n",
              "      <td>no</td>\n",
              "      <td>no</td>\n",
              "      <td>ckd</td>\n",
              "    </tr>\n",
              "  </tbody>\n",
              "</table>\n",
              "<p>5 rows × 26 columns</p>\n",
              "</div>\n",
              "      <button class=\"colab-df-convert\" onclick=\"convertToInteractive('df-f1b1e738-2453-46c3-967a-cc3d0d2e5ae5')\"\n",
              "              title=\"Convert this dataframe to an interactive table.\"\n",
              "              style=\"display:none;\">\n",
              "        \n",
              "  <svg xmlns=\"http://www.w3.org/2000/svg\" height=\"24px\"viewBox=\"0 0 24 24\"\n",
              "       width=\"24px\">\n",
              "    <path d=\"M0 0h24v24H0V0z\" fill=\"none\"/>\n",
              "    <path d=\"M18.56 5.44l.94 2.06.94-2.06 2.06-.94-2.06-.94-.94-2.06-.94 2.06-2.06.94zm-11 1L8.5 8.5l.94-2.06 2.06-.94-2.06-.94L8.5 2.5l-.94 2.06-2.06.94zm10 10l.94 2.06.94-2.06 2.06-.94-2.06-.94-.94-2.06-.94 2.06-2.06.94z\"/><path d=\"M17.41 7.96l-1.37-1.37c-.4-.4-.92-.59-1.43-.59-.52 0-1.04.2-1.43.59L10.3 9.45l-7.72 7.72c-.78.78-.78 2.05 0 2.83L4 21.41c.39.39.9.59 1.41.59.51 0 1.02-.2 1.41-.59l7.78-7.78 2.81-2.81c.8-.78.8-2.07 0-2.86zM5.41 20L4 18.59l7.72-7.72 1.47 1.35L5.41 20z\"/>\n",
              "  </svg>\n",
              "      </button>\n",
              "      \n",
              "  <style>\n",
              "    .colab-df-container {\n",
              "      display:flex;\n",
              "      flex-wrap:wrap;\n",
              "      gap: 12px;\n",
              "    }\n",
              "\n",
              "    .colab-df-convert {\n",
              "      background-color: #E8F0FE;\n",
              "      border: none;\n",
              "      border-radius: 50%;\n",
              "      cursor: pointer;\n",
              "      display: none;\n",
              "      fill: #1967D2;\n",
              "      height: 32px;\n",
              "      padding: 0 0 0 0;\n",
              "      width: 32px;\n",
              "    }\n",
              "\n",
              "    .colab-df-convert:hover {\n",
              "      background-color: #E2EBFA;\n",
              "      box-shadow: 0px 1px 2px rgba(60, 64, 67, 0.3), 0px 1px 3px 1px rgba(60, 64, 67, 0.15);\n",
              "      fill: #174EA6;\n",
              "    }\n",
              "\n",
              "    [theme=dark] .colab-df-convert {\n",
              "      background-color: #3B4455;\n",
              "      fill: #D2E3FC;\n",
              "    }\n",
              "\n",
              "    [theme=dark] .colab-df-convert:hover {\n",
              "      background-color: #434B5C;\n",
              "      box-shadow: 0px 1px 3px 1px rgba(0, 0, 0, 0.15);\n",
              "      filter: drop-shadow(0px 1px 2px rgba(0, 0, 0, 0.3));\n",
              "      fill: #FFFFFF;\n",
              "    }\n",
              "  </style>\n",
              "\n",
              "      <script>\n",
              "        const buttonEl =\n",
              "          document.querySelector('#df-f1b1e738-2453-46c3-967a-cc3d0d2e5ae5 button.colab-df-convert');\n",
              "        buttonEl.style.display =\n",
              "          google.colab.kernel.accessAllowed ? 'block' : 'none';\n",
              "\n",
              "        async function convertToInteractive(key) {\n",
              "          const element = document.querySelector('#df-f1b1e738-2453-46c3-967a-cc3d0d2e5ae5');\n",
              "          const dataTable =\n",
              "            await google.colab.kernel.invokeFunction('convertToInteractive',\n",
              "                                                     [key], {});\n",
              "          if (!dataTable) return;\n",
              "\n",
              "          const docLinkHtml = 'Like what you see? Visit the ' +\n",
              "            '<a target=\"_blank\" href=https://colab.research.google.com/notebooks/data_table.ipynb>data table notebook</a>'\n",
              "            + ' to learn more about interactive tables.';\n",
              "          element.innerHTML = '';\n",
              "          dataTable['output_type'] = 'display_data';\n",
              "          await google.colab.output.renderOutput(dataTable, element);\n",
              "          const docLink = document.createElement('div');\n",
              "          docLink.innerHTML = docLinkHtml;\n",
              "          element.appendChild(docLink);\n",
              "        }\n",
              "      </script>\n",
              "    </div>\n",
              "  </div>\n",
              "  "
            ]
          },
          "metadata": {},
          "execution_count": 5
        }
      ]
    },
    {
      "cell_type": "code",
      "source": [
        "# finding null values\n",
        "df.isnull().sum()"
      ],
      "metadata": {
        "colab": {
          "base_uri": "https://localhost:8080/"
        },
        "id": "ZV73VKzR7lIf",
        "outputId": "780f0a27-2e38-438d-ad9a-f6ed4f6717c9"
      },
      "execution_count": 6,
      "outputs": [
        {
          "output_type": "execute_result",
          "data": {
            "text/plain": [
              "id                  0\n",
              "age                 9\n",
              "bp                 12\n",
              "sg                 47\n",
              "al                 46\n",
              "su                 49\n",
              "rbc               152\n",
              "pc                 65\n",
              "pcc                 4\n",
              "ba                  4\n",
              "bgr                44\n",
              "bu                 19\n",
              "sc                 17\n",
              "sod                87\n",
              "pot                88\n",
              "hemo               52\n",
              "pcv                70\n",
              "wc                105\n",
              "rc                130\n",
              "htn                 2\n",
              "dm                  2\n",
              "cad                 2\n",
              "appet               1\n",
              "pe                  1\n",
              "ane                 1\n",
              "classification      0\n",
              "dtype: int64"
            ]
          },
          "metadata": {},
          "execution_count": 6
        }
      ]
    },
    {
      "cell_type": "code",
      "source": [
        "# imputing null values\n",
        "imputer = SimpleImputer(missing_values = np.nan, strategy = \"most_frequent\")\n",
        "df_imputed = pd.DataFrame(imputer.fit_transform(df))\n",
        "df_imputed.columns = df.columns"
      ],
      "metadata": {
        "id": "pwsZGUQL8AsF"
      },
      "execution_count": 7,
      "outputs": []
    },
    {
      "cell_type": "code",
      "source": [
        "df_imputed.head()"
      ],
      "metadata": {
        "colab": {
          "base_uri": "https://localhost:8080/",
          "height": 235
        },
        "id": "3uwwBVW687Rc",
        "outputId": "f7c64f74-39b1-4e04-ff47-856499fee493"
      },
      "execution_count": 8,
      "outputs": [
        {
          "output_type": "execute_result",
          "data": {
            "text/plain": [
              "  id   age    bp     sg   al   su     rbc        pc         pcc          ba  \\\n",
              "0  0  48.0  80.0   1.02  1.0  0.0  normal    normal  notpresent  notpresent   \n",
              "1  1   7.0  50.0   1.02  4.0  0.0  normal    normal  notpresent  notpresent   \n",
              "2  2  62.0  80.0   1.01  2.0  3.0  normal    normal  notpresent  notpresent   \n",
              "3  3  48.0  70.0  1.005  4.0  0.0  normal  abnormal     present  notpresent   \n",
              "4  4  51.0  80.0   1.01  2.0  0.0  normal    normal  notpresent  notpresent   \n",
              "\n",
              "   ... pcv    wc   rc  htn   dm cad appet   pe  ane classification  \n",
              "0  ...  44  7800  5.2  yes  yes  no  good   no   no            ckd  \n",
              "1  ...  38  6000  5.2   no   no  no  good   no   no            ckd  \n",
              "2  ...  31  7500  5.2   no  yes  no  poor   no  yes            ckd  \n",
              "3  ...  32  6700  3.9  yes   no  no  poor  yes  yes            ckd  \n",
              "4  ...  35  7300  4.6   no   no  no  good   no   no            ckd  \n",
              "\n",
              "[5 rows x 26 columns]"
            ],
            "text/html": [
              "\n",
              "  <div id=\"df-8cc97b34-7a4c-474e-b2e4-dbac94a4d759\">\n",
              "    <div class=\"colab-df-container\">\n",
              "      <div>\n",
              "<style scoped>\n",
              "    .dataframe tbody tr th:only-of-type {\n",
              "        vertical-align: middle;\n",
              "    }\n",
              "\n",
              "    .dataframe tbody tr th {\n",
              "        vertical-align: top;\n",
              "    }\n",
              "\n",
              "    .dataframe thead th {\n",
              "        text-align: right;\n",
              "    }\n",
              "</style>\n",
              "<table border=\"1\" class=\"dataframe\">\n",
              "  <thead>\n",
              "    <tr style=\"text-align: right;\">\n",
              "      <th></th>\n",
              "      <th>id</th>\n",
              "      <th>age</th>\n",
              "      <th>bp</th>\n",
              "      <th>sg</th>\n",
              "      <th>al</th>\n",
              "      <th>su</th>\n",
              "      <th>rbc</th>\n",
              "      <th>pc</th>\n",
              "      <th>pcc</th>\n",
              "      <th>ba</th>\n",
              "      <th>...</th>\n",
              "      <th>pcv</th>\n",
              "      <th>wc</th>\n",
              "      <th>rc</th>\n",
              "      <th>htn</th>\n",
              "      <th>dm</th>\n",
              "      <th>cad</th>\n",
              "      <th>appet</th>\n",
              "      <th>pe</th>\n",
              "      <th>ane</th>\n",
              "      <th>classification</th>\n",
              "    </tr>\n",
              "  </thead>\n",
              "  <tbody>\n",
              "    <tr>\n",
              "      <th>0</th>\n",
              "      <td>0</td>\n",
              "      <td>48.0</td>\n",
              "      <td>80.0</td>\n",
              "      <td>1.02</td>\n",
              "      <td>1.0</td>\n",
              "      <td>0.0</td>\n",
              "      <td>normal</td>\n",
              "      <td>normal</td>\n",
              "      <td>notpresent</td>\n",
              "      <td>notpresent</td>\n",
              "      <td>...</td>\n",
              "      <td>44</td>\n",
              "      <td>7800</td>\n",
              "      <td>5.2</td>\n",
              "      <td>yes</td>\n",
              "      <td>yes</td>\n",
              "      <td>no</td>\n",
              "      <td>good</td>\n",
              "      <td>no</td>\n",
              "      <td>no</td>\n",
              "      <td>ckd</td>\n",
              "    </tr>\n",
              "    <tr>\n",
              "      <th>1</th>\n",
              "      <td>1</td>\n",
              "      <td>7.0</td>\n",
              "      <td>50.0</td>\n",
              "      <td>1.02</td>\n",
              "      <td>4.0</td>\n",
              "      <td>0.0</td>\n",
              "      <td>normal</td>\n",
              "      <td>normal</td>\n",
              "      <td>notpresent</td>\n",
              "      <td>notpresent</td>\n",
              "      <td>...</td>\n",
              "      <td>38</td>\n",
              "      <td>6000</td>\n",
              "      <td>5.2</td>\n",
              "      <td>no</td>\n",
              "      <td>no</td>\n",
              "      <td>no</td>\n",
              "      <td>good</td>\n",
              "      <td>no</td>\n",
              "      <td>no</td>\n",
              "      <td>ckd</td>\n",
              "    </tr>\n",
              "    <tr>\n",
              "      <th>2</th>\n",
              "      <td>2</td>\n",
              "      <td>62.0</td>\n",
              "      <td>80.0</td>\n",
              "      <td>1.01</td>\n",
              "      <td>2.0</td>\n",
              "      <td>3.0</td>\n",
              "      <td>normal</td>\n",
              "      <td>normal</td>\n",
              "      <td>notpresent</td>\n",
              "      <td>notpresent</td>\n",
              "      <td>...</td>\n",
              "      <td>31</td>\n",
              "      <td>7500</td>\n",
              "      <td>5.2</td>\n",
              "      <td>no</td>\n",
              "      <td>yes</td>\n",
              "      <td>no</td>\n",
              "      <td>poor</td>\n",
              "      <td>no</td>\n",
              "      <td>yes</td>\n",
              "      <td>ckd</td>\n",
              "    </tr>\n",
              "    <tr>\n",
              "      <th>3</th>\n",
              "      <td>3</td>\n",
              "      <td>48.0</td>\n",
              "      <td>70.0</td>\n",
              "      <td>1.005</td>\n",
              "      <td>4.0</td>\n",
              "      <td>0.0</td>\n",
              "      <td>normal</td>\n",
              "      <td>abnormal</td>\n",
              "      <td>present</td>\n",
              "      <td>notpresent</td>\n",
              "      <td>...</td>\n",
              "      <td>32</td>\n",
              "      <td>6700</td>\n",
              "      <td>3.9</td>\n",
              "      <td>yes</td>\n",
              "      <td>no</td>\n",
              "      <td>no</td>\n",
              "      <td>poor</td>\n",
              "      <td>yes</td>\n",
              "      <td>yes</td>\n",
              "      <td>ckd</td>\n",
              "    </tr>\n",
              "    <tr>\n",
              "      <th>4</th>\n",
              "      <td>4</td>\n",
              "      <td>51.0</td>\n",
              "      <td>80.0</td>\n",
              "      <td>1.01</td>\n",
              "      <td>2.0</td>\n",
              "      <td>0.0</td>\n",
              "      <td>normal</td>\n",
              "      <td>normal</td>\n",
              "      <td>notpresent</td>\n",
              "      <td>notpresent</td>\n",
              "      <td>...</td>\n",
              "      <td>35</td>\n",
              "      <td>7300</td>\n",
              "      <td>4.6</td>\n",
              "      <td>no</td>\n",
              "      <td>no</td>\n",
              "      <td>no</td>\n",
              "      <td>good</td>\n",
              "      <td>no</td>\n",
              "      <td>no</td>\n",
              "      <td>ckd</td>\n",
              "    </tr>\n",
              "  </tbody>\n",
              "</table>\n",
              "<p>5 rows × 26 columns</p>\n",
              "</div>\n",
              "      <button class=\"colab-df-convert\" onclick=\"convertToInteractive('df-8cc97b34-7a4c-474e-b2e4-dbac94a4d759')\"\n",
              "              title=\"Convert this dataframe to an interactive table.\"\n",
              "              style=\"display:none;\">\n",
              "        \n",
              "  <svg xmlns=\"http://www.w3.org/2000/svg\" height=\"24px\"viewBox=\"0 0 24 24\"\n",
              "       width=\"24px\">\n",
              "    <path d=\"M0 0h24v24H0V0z\" fill=\"none\"/>\n",
              "    <path d=\"M18.56 5.44l.94 2.06.94-2.06 2.06-.94-2.06-.94-.94-2.06-.94 2.06-2.06.94zm-11 1L8.5 8.5l.94-2.06 2.06-.94-2.06-.94L8.5 2.5l-.94 2.06-2.06.94zm10 10l.94 2.06.94-2.06 2.06-.94-2.06-.94-.94-2.06-.94 2.06-2.06.94z\"/><path d=\"M17.41 7.96l-1.37-1.37c-.4-.4-.92-.59-1.43-.59-.52 0-1.04.2-1.43.59L10.3 9.45l-7.72 7.72c-.78.78-.78 2.05 0 2.83L4 21.41c.39.39.9.59 1.41.59.51 0 1.02-.2 1.41-.59l7.78-7.78 2.81-2.81c.8-.78.8-2.07 0-2.86zM5.41 20L4 18.59l7.72-7.72 1.47 1.35L5.41 20z\"/>\n",
              "  </svg>\n",
              "      </button>\n",
              "      \n",
              "  <style>\n",
              "    .colab-df-container {\n",
              "      display:flex;\n",
              "      flex-wrap:wrap;\n",
              "      gap: 12px;\n",
              "    }\n",
              "\n",
              "    .colab-df-convert {\n",
              "      background-color: #E8F0FE;\n",
              "      border: none;\n",
              "      border-radius: 50%;\n",
              "      cursor: pointer;\n",
              "      display: none;\n",
              "      fill: #1967D2;\n",
              "      height: 32px;\n",
              "      padding: 0 0 0 0;\n",
              "      width: 32px;\n",
              "    }\n",
              "\n",
              "    .colab-df-convert:hover {\n",
              "      background-color: #E2EBFA;\n",
              "      box-shadow: 0px 1px 2px rgba(60, 64, 67, 0.3), 0px 1px 3px 1px rgba(60, 64, 67, 0.15);\n",
              "      fill: #174EA6;\n",
              "    }\n",
              "\n",
              "    [theme=dark] .colab-df-convert {\n",
              "      background-color: #3B4455;\n",
              "      fill: #D2E3FC;\n",
              "    }\n",
              "\n",
              "    [theme=dark] .colab-df-convert:hover {\n",
              "      background-color: #434B5C;\n",
              "      box-shadow: 0px 1px 3px 1px rgba(0, 0, 0, 0.15);\n",
              "      filter: drop-shadow(0px 1px 2px rgba(0, 0, 0, 0.3));\n",
              "      fill: #FFFFFF;\n",
              "    }\n",
              "  </style>\n",
              "\n",
              "      <script>\n",
              "        const buttonEl =\n",
              "          document.querySelector('#df-8cc97b34-7a4c-474e-b2e4-dbac94a4d759 button.colab-df-convert');\n",
              "        buttonEl.style.display =\n",
              "          google.colab.kernel.accessAllowed ? 'block' : 'none';\n",
              "\n",
              "        async function convertToInteractive(key) {\n",
              "          const element = document.querySelector('#df-8cc97b34-7a4c-474e-b2e4-dbac94a4d759');\n",
              "          const dataTable =\n",
              "            await google.colab.kernel.invokeFunction('convertToInteractive',\n",
              "                                                     [key], {});\n",
              "          if (!dataTable) return;\n",
              "\n",
              "          const docLinkHtml = 'Like what you see? Visit the ' +\n",
              "            '<a target=\"_blank\" href=https://colab.research.google.com/notebooks/data_table.ipynb>data table notebook</a>'\n",
              "            + ' to learn more about interactive tables.';\n",
              "          element.innerHTML = '';\n",
              "          dataTable['output_type'] = 'display_data';\n",
              "          await google.colab.output.renderOutput(dataTable, element);\n",
              "          const docLink = document.createElement('div');\n",
              "          docLink.innerHTML = docLinkHtml;\n",
              "          element.appendChild(docLink);\n",
              "        }\n",
              "      </script>\n",
              "    </div>\n",
              "  </div>\n",
              "  "
            ]
          },
          "metadata": {},
          "execution_count": 8
        }
      ]
    },
    {
      "cell_type": "code",
      "source": [
        "# find unique values\n",
        "for i in df_imputed.columns:\n",
        "  print(i)\n",
        "  print()\n",
        "  print(df_imputed[i].unique())\n",
        "  print()\n",
        "  print()\n",
        "  print()"
      ],
      "metadata": {
        "colab": {
          "base_uri": "https://localhost:8080/"
        },
        "id": "_MgG8E4t9mWh",
        "outputId": "5c89606e-aac7-4ac0-9610-806a2793bd0a"
      },
      "execution_count": 9,
      "outputs": [
        {
          "output_type": "stream",
          "name": "stdout",
          "text": [
            "id\n",
            "\n",
            "[0 1 2 3 4 5 6 7 8 9 10 11 12 13 14 15 16 17 18 19 20 21 22 23 24 25 26 27\n",
            " 28 29 30 31 32 33 34 35 36 37 38 39 40 41 42 43 44 45 46 47 48 49 50 51\n",
            " 52 53 54 55 56 57 58 59 60 61 62 63 64 65 66 67 68 69 70 71 72 73 74 75\n",
            " 76 77 78 79 80 81 82 83 84 85 86 87 88 89 90 91 92 93 94 95 96 97 98 99\n",
            " 100 101 102 103 104 105 106 107 108 109 110 111 112 113 114 115 116 117\n",
            " 118 119 120 121 122 123 124 125 126 127 128 129 130 131 132 133 134 135\n",
            " 136 137 138 139 140 141 142 143 144 145 146 147 148 149 150 151 152 153\n",
            " 154 155 156 157 158 159 160 161 162 163 164 165 166 167 168 169 170 171\n",
            " 172 173 174 175 176 177 178 179 180 181 182 183 184 185 186 187 188 189\n",
            " 190 191 192 193 194 195 196 197 198 199 200 201 202 203 204 205 206 207\n",
            " 208 209 210 211 212 213 214 215 216 217 218 219 220 221 222 223 224 225\n",
            " 226 227 228 229 230 231 232 233 234 235 236 237 238 239 240 241 242 243\n",
            " 244 245 246 247 248 249 250 251 252 253 254 255 256 257 258 259 260 261\n",
            " 262 263 264 265 266 267 268 269 270 271 272 273 274 275 276 277 278 279\n",
            " 280 281 282 283 284 285 286 287 288 289 290 291 292 293 294 295 296 297\n",
            " 298 299 300 301 302 303 304 305 306 307 308 309 310 311 312 313 314 315\n",
            " 316 317 318 319 320 321 322 323 324 325 326 327 328 329 330 331 332 333\n",
            " 334 335 336 337 338 339 340 341 342 343 344 345 346 347 348 349 350 351\n",
            " 352 353 354 355 356 357 358 359 360 361 362 363 364 365 366 367 368 369\n",
            " 370 371 372 373 374 375 376 377 378 379 380 381 382 383 384 385 386 387\n",
            " 388 389 390 391 392 393 394 395 396 397 398 399]\n",
            "\n",
            "\n",
            "\n",
            "age\n",
            "\n",
            "[48.0 7.0 62.0 51.0 60.0 68.0 24.0 52.0 53.0 50.0 63.0 40.0 47.0 61.0 21.0\n",
            " 42.0 75.0 69.0 73.0 70.0 65.0 76.0 72.0 82.0 46.0 45.0 35.0 54.0 11.0\n",
            " 59.0 67.0 15.0 55.0 44.0 26.0 64.0 56.0 5.0 74.0 38.0 58.0 71.0 34.0 17.0\n",
            " 12.0 43.0 41.0 57.0 8.0 39.0 66.0 81.0 14.0 27.0 83.0 30.0 4.0 3.0 6.0\n",
            " 32.0 80.0 49.0 90.0 78.0 19.0 2.0 33.0 36.0 37.0 23.0 25.0 20.0 29.0 28.0\n",
            " 22.0 79.0]\n",
            "\n",
            "\n",
            "\n",
            "bp\n",
            "\n",
            "[80.0 50.0 70.0 90.0 100.0 60.0 110.0 140.0 180.0 120.0]\n",
            "\n",
            "\n",
            "\n",
            "sg\n",
            "\n",
            "[1.02 1.01 1.005 1.015 1.025]\n",
            "\n",
            "\n",
            "\n",
            "al\n",
            "\n",
            "[1.0 4.0 2.0 3.0 0.0 5.0]\n",
            "\n",
            "\n",
            "\n",
            "su\n",
            "\n",
            "[0.0 3.0 4.0 1.0 2.0 5.0]\n",
            "\n",
            "\n",
            "\n",
            "rbc\n",
            "\n",
            "['normal' 'abnormal']\n",
            "\n",
            "\n",
            "\n",
            "pc\n",
            "\n",
            "['normal' 'abnormal']\n",
            "\n",
            "\n",
            "\n",
            "pcc\n",
            "\n",
            "['notpresent' 'present']\n",
            "\n",
            "\n",
            "\n",
            "ba\n",
            "\n",
            "['notpresent' 'present']\n",
            "\n",
            "\n",
            "\n",
            "bgr\n",
            "\n",
            "[121.0 99.0 423.0 117.0 106.0 74.0 100.0 410.0 138.0 70.0 490.0 380.0\n",
            " 208.0 98.0 157.0 76.0 114.0 263.0 173.0 95.0 108.0 156.0 264.0 123.0 93.0\n",
            " 107.0 159.0 140.0 171.0 270.0 92.0 137.0 204.0 79.0 207.0 124.0 144.0\n",
            " 91.0 162.0 246.0 253.0 141.0 182.0 86.0 150.0 146.0 425.0 112.0 250.0\n",
            " 360.0 163.0 129.0 133.0 102.0 158.0 165.0 132.0 104.0 127.0 415.0 169.0\n",
            " 251.0 109.0 280.0 210.0 219.0 295.0 94.0 172.0 101.0 298.0 153.0 88.0\n",
            " 226.0 143.0 115.0 89.0 297.0 233.0 294.0 323.0 125.0 90.0 308.0 118.0\n",
            " 224.0 128.0 122.0 214.0 213.0 268.0 256.0 84.0 105.0 288.0 139.0 78.0\n",
            " 273.0 242.0 424.0 303.0 148.0 160.0 192.0 307.0 220.0 447.0 309.0 22.0\n",
            " 111.0 261.0 215.0 234.0 131.0 352.0 80.0 239.0 110.0 130.0 184.0 252.0\n",
            " 113.0 230.0 341.0 255.0 103.0 238.0 248.0 120.0 241.0 269.0 201.0 203.0\n",
            " 463.0 176.0 82.0 119.0 97.0 96.0 81.0 116.0 134.0 85.0 83.0 87.0 75.0]\n",
            "\n",
            "\n",
            "\n",
            "bu\n",
            "\n",
            "[36.0 18.0 53.0 56.0 26.0 25.0 54.0 31.0 60.0 107.0 55.0 72.0 86.0 90.0\n",
            " 162.0 46.0 87.0 27.0 148.0 180.0 163.0 50.0 75.0 45.0 28.0 155.0 33.0\n",
            " 39.0 153.0 29.0 65.0 103.0 70.0 80.0 20.0 202.0 77.0 89.0 24.0 17.0 32.0\n",
            " 114.0 66.0 38.0 164.0 142.0 96.0 391.0 15.0 111.0 73.0 19.0 92.0 35.0\n",
            " 16.0 139.0 48.0 85.0 98.0 186.0 37.0 47.0 52.0 82.0 51.0 106.0 22.0 217.0\n",
            " 88.0 118.0 50.1 71.0 34.0 40.0 21.0 219.0 30.0 125.0 166.0 49.0 208.0\n",
            " 176.0 68.0 145.0 165.0 322.0 23.0 235.0 132.0 76.0 42.0 44.0 41.0 113.0\n",
            " 1.5 146.0 58.0 133.0 137.0 67.0 115.0 223.0 98.6 158.0 94.0 74.0 150.0\n",
            " 61.0 57.0 95.0 191.0 93.0 241.0 64.0 79.0 215.0 309.0 10.0]\n",
            "\n",
            "\n",
            "\n",
            "sc\n",
            "\n",
            "[1.2 0.8 1.8 3.8 1.4 1.1 24.0 1.9 7.2 4.0 2.7 2.1 4.6 4.1 9.6 2.2 5.2 1.3\n",
            " 1.6 3.9 76.0 7.7 2.4 7.3 1.5 2.5 2.0 3.4 0.7 1.0 10.8 6.3 5.9 0.9 3.0\n",
            " 3.25 9.7 6.4 3.2 32.0 0.6 6.1 3.3 6.7 8.5 2.8 15.0 2.9 1.7 3.6 5.6 6.5\n",
            " 4.4 10.2 11.5 0.5 12.2 5.3 9.2 13.8 16.9 6.0 7.1 18.0 2.3 13.0 48.1 14.2\n",
            " 16.4 2.6 7.5 4.3 18.1 11.8 9.3 6.8 13.5 12.8 11.9 12.0 13.4 15.2 13.3 0.4]\n",
            "\n",
            "\n",
            "\n",
            "sod\n",
            "\n",
            "[135.0 111.0 142.0 104.0 114.0 131.0 138.0 130.0 141.0 139.0 4.5 136.0\n",
            " 129.0 140.0 132.0 133.0 134.0 125.0 163.0 137.0 128.0 143.0 127.0 146.0\n",
            " 126.0 122.0 147.0 124.0 115.0 145.0 113.0 120.0 150.0 144.0]\n",
            "\n",
            "\n",
            "\n",
            "pot\n",
            "\n",
            "[3.5 2.5 3.2 4.0 3.7 4.2 5.8 3.4 6.4 4.9 4.1 4.3 5.2 3.8 4.6 3.9 4.7 5.9\n",
            " 4.8 4.4 6.6 39.0 5.5 5.0 3.6 7.6 2.9 4.5 5.7 5.4 5.3 47.0 6.3 5.1 5.6 3.0\n",
            " 2.8 2.7 6.5 3.3]\n",
            "\n",
            "\n",
            "\n",
            "hemo\n",
            "\n",
            "[15.4 11.3 9.6 11.2 11.6 12.2 12.4 10.8 9.5 9.4 9.7 9.8 5.6 7.6 12.6 12.1\n",
            " 12.7 10.3 7.7 10.9 15.0 11.1 9.9 12.5 12.9 10.1 12.0 13.0 7.9 9.3 10.0\n",
            " 8.6 13.6 10.2 10.5 6.6 11.0 7.5 15.6 15.2 4.8 9.1 8.1 11.9 13.5 8.3 7.1\n",
            " 16.1 10.4 9.2 6.2 13.9 14.1 6.0 11.8 11.7 11.4 14.0 8.2 13.2 6.1 8.0 12.3\n",
            " 8.4 14.3 9.0 8.7 10.6 13.1 10.7 5.5 5.8 6.8 8.8 8.5 13.8 11.5 7.3 13.7\n",
            " 12.8 13.4 6.3 3.1 17.0 15.9 14.5 15.5 16.2 14.4 14.2 16.3 14.8 16.5 15.7\n",
            " 13.3 14.6 16.4 16.9 16.0 14.7 16.6 14.9 16.7 16.8 15.8 15.1 17.1 17.2\n",
            " 15.3 17.3 17.4 17.7 17.8 17.5 17.6]\n",
            "\n",
            "\n",
            "\n",
            "pcv\n",
            "\n",
            "['44' '38' '31' '32' '35' '39' '36' '33' '29' '28' '41' '16' '24' '37'\n",
            " '30' '34' '40' '45' '27' '48' '\\t?' '52' '14' '22' '18' '42' '17' '46'\n",
            " '23' '19' '25' '26' '15' '21' '43' '20' '\\t43' '47' '9' '49' '50' '53'\n",
            " '51' '54']\n",
            "\n",
            "\n",
            "\n",
            "wc\n",
            "\n",
            "['7800' '6000' '7500' '6700' '7300' '9800' '6900' '9600' '12100' '4500'\n",
            " '12200' '11000' '3800' '11400' '5300' '9200' '6200' '8300' '8400' '10300'\n",
            " '9100' '7900' '6400' '8600' '18900' '21600' '4300' '8500' '11300' '7200'\n",
            " '7700' '14600' '6300' '\\t6200' '7100' '11800' '9400' '5500' '5800'\n",
            " '13200' '12500' '5600' '7000' '11900' '10400' '10700' '12700' '6800'\n",
            " '6500' '13600' '10200' '9000' '14900' '8200' '15200' '5000' '16300'\n",
            " '12400' '\\t8400' '10500' '4200' '4700' '10900' '8100' '9500' '2200'\n",
            " '12800' '11200' '19100' '\\t?' '12300' '16700' '2600' '26400' '8800'\n",
            " '7400' '4900' '8000' '12000' '15700' '4100' '5700' '11500' '5400' '10800'\n",
            " '9900' '5200' '5900' '9300' '9700' '5100' '6600']\n",
            "\n",
            "\n",
            "\n",
            "rc\n",
            "\n",
            "['5.2' '3.9' '4.6' '4.4' '5' '4.0' '3.7' '3.8' '3.4' '2.6' '2.8' '4.3'\n",
            " '3.2' '3.6' '4' '4.1' '4.9' '2.5' '4.2' '4.5' '3.1' '4.7' '3.5' '6.0'\n",
            " '5.0' '2.1' '5.6' '2.3' '2.9' '2.7' '8.0' '3.3' '3.0' '3' '2.4' '4.8'\n",
            " '\\t?' '5.4' '6.1' '6.2' '6.3' '5.1' '5.8' '5.5' '5.3' '6.4' '5.7' '5.9'\n",
            " '6.5']\n",
            "\n",
            "\n",
            "\n",
            "htn\n",
            "\n",
            "['yes' 'no']\n",
            "\n",
            "\n",
            "\n",
            "dm\n",
            "\n",
            "['yes' 'no' ' yes' '\\tno' '\\tyes']\n",
            "\n",
            "\n",
            "\n",
            "cad\n",
            "\n",
            "['no' 'yes' '\\tno']\n",
            "\n",
            "\n",
            "\n",
            "appet\n",
            "\n",
            "['good' 'poor']\n",
            "\n",
            "\n",
            "\n",
            "pe\n",
            "\n",
            "['no' 'yes']\n",
            "\n",
            "\n",
            "\n",
            "ane\n",
            "\n",
            "['no' 'yes']\n",
            "\n",
            "\n",
            "\n",
            "classification\n",
            "\n",
            "['ckd' 'ckd\\t' 'notckd']\n",
            "\n",
            "\n",
            "\n"
          ]
        }
      ]
    },
    {
      "cell_type": "markdown",
      "source": [
        "Not desired Characters:\n",
        "\n",
        "*   pcv : \\t?  \\t43\n",
        "*   wc :  '\\t6200' '\\t8400'  '\\t?'\n",
        "*   rc : \\t?\n",
        "*   dm : '\\tno' '\\tyes'\n",
        "*  cad: \\tno\n",
        "*  classification : 'ckd\\t'\n",
        "\n",
        "\n",
        "\n"
      ],
      "metadata": {
        "id": "uUvbeChn_eM7"
      }
    },
    {
      "cell_type": "code",
      "source": [
        "print(df_imputed[\"pcv\"].mode())\n",
        "print(df_imputed[\"wc\"].mode())\n",
        "print(df_imputed[\"rc\"].mode())"
      ],
      "metadata": {
        "colab": {
          "base_uri": "https://localhost:8080/"
        },
        "id": "fCjnWYbnQaPz",
        "outputId": "e9505c04-7a81-4eaa-c15c-7c9784c4ba56"
      },
      "execution_count": 10,
      "outputs": [
        {
          "output_type": "stream",
          "name": "stdout",
          "text": [
            "0    41\n",
            "dtype: object\n",
            "0    9800\n",
            "dtype: object\n",
            "0    5.2\n",
            "dtype: object\n"
          ]
        }
      ]
    },
    {
      "cell_type": "code",
      "source": [
        "# df['Maths'].apply(lambda x: 'Pass' if x>=5 else 'Fail')\n",
        "df_imputed['pcv'] = df_imputed['pcv'].apply(lambda x: '41' if x == '\\t?' else x)\n",
        "df_imputed['pcv'] = df_imputed['pcv'].apply(lambda x: '43' if x == '\\t43' else x)\n",
        "\n",
        "df_imputed['wc'] = df_imputed['wc'].apply(lambda x: '6200' if x == '\\t6200' else x)\n",
        "df_imputed['wc'] = df_imputed['wc'].apply(lambda x: '8400' if x == '\\t8400' else x)\n",
        "df_imputed['wc'] = df_imputed['wc'].apply(lambda x: '9800' if x == '\\t?' else x)\n",
        "\n",
        "df_imputed['rc'] = df_imputed['rc'].apply(lambda x: '5.2' if x == '\\t?' else x)\n",
        "\n",
        "df_imputed['dm'] = df_imputed['dm'].apply(lambda x: 'no' if x == '\\tno' else x)\n",
        "df_imputed['dm'] = df_imputed['rc'].apply(lambda x: 'yes' if x == '\\tyes' else x)\n",
        "\n",
        "df_imputed['cad'] = df_imputed['cad'].apply(lambda x: 'no' if x == '\\tno' else x)\n",
        "\n",
        "df_imputed['classification'] = df_imputed['classification'].apply(lambda x: 'ckd' if x == 'ckd\\t' else x)"
      ],
      "metadata": {
        "id": "qKclMh6r_11b"
      },
      "execution_count": 11,
      "outputs": []
    },
    {
      "cell_type": "code",
      "source": [
        "# find unique values\n",
        "for i in df_imputed.columns:\n",
        "  print(i)\n",
        "  print()\n",
        "  print(df_imputed[i].unique())\n",
        "  print()\n",
        "  print()\n",
        "  print()"
      ],
      "metadata": {
        "colab": {
          "base_uri": "https://localhost:8080/"
        },
        "id": "NkCWM31idUzP",
        "outputId": "c25158cf-546e-4f9d-9957-9760c4182cdd"
      },
      "execution_count": 12,
      "outputs": [
        {
          "output_type": "stream",
          "name": "stdout",
          "text": [
            "id\n",
            "\n",
            "[0 1 2 3 4 5 6 7 8 9 10 11 12 13 14 15 16 17 18 19 20 21 22 23 24 25 26 27\n",
            " 28 29 30 31 32 33 34 35 36 37 38 39 40 41 42 43 44 45 46 47 48 49 50 51\n",
            " 52 53 54 55 56 57 58 59 60 61 62 63 64 65 66 67 68 69 70 71 72 73 74 75\n",
            " 76 77 78 79 80 81 82 83 84 85 86 87 88 89 90 91 92 93 94 95 96 97 98 99\n",
            " 100 101 102 103 104 105 106 107 108 109 110 111 112 113 114 115 116 117\n",
            " 118 119 120 121 122 123 124 125 126 127 128 129 130 131 132 133 134 135\n",
            " 136 137 138 139 140 141 142 143 144 145 146 147 148 149 150 151 152 153\n",
            " 154 155 156 157 158 159 160 161 162 163 164 165 166 167 168 169 170 171\n",
            " 172 173 174 175 176 177 178 179 180 181 182 183 184 185 186 187 188 189\n",
            " 190 191 192 193 194 195 196 197 198 199 200 201 202 203 204 205 206 207\n",
            " 208 209 210 211 212 213 214 215 216 217 218 219 220 221 222 223 224 225\n",
            " 226 227 228 229 230 231 232 233 234 235 236 237 238 239 240 241 242 243\n",
            " 244 245 246 247 248 249 250 251 252 253 254 255 256 257 258 259 260 261\n",
            " 262 263 264 265 266 267 268 269 270 271 272 273 274 275 276 277 278 279\n",
            " 280 281 282 283 284 285 286 287 288 289 290 291 292 293 294 295 296 297\n",
            " 298 299 300 301 302 303 304 305 306 307 308 309 310 311 312 313 314 315\n",
            " 316 317 318 319 320 321 322 323 324 325 326 327 328 329 330 331 332 333\n",
            " 334 335 336 337 338 339 340 341 342 343 344 345 346 347 348 349 350 351\n",
            " 352 353 354 355 356 357 358 359 360 361 362 363 364 365 366 367 368 369\n",
            " 370 371 372 373 374 375 376 377 378 379 380 381 382 383 384 385 386 387\n",
            " 388 389 390 391 392 393 394 395 396 397 398 399]\n",
            "\n",
            "\n",
            "\n",
            "age\n",
            "\n",
            "[48.0 7.0 62.0 51.0 60.0 68.0 24.0 52.0 53.0 50.0 63.0 40.0 47.0 61.0 21.0\n",
            " 42.0 75.0 69.0 73.0 70.0 65.0 76.0 72.0 82.0 46.0 45.0 35.0 54.0 11.0\n",
            " 59.0 67.0 15.0 55.0 44.0 26.0 64.0 56.0 5.0 74.0 38.0 58.0 71.0 34.0 17.0\n",
            " 12.0 43.0 41.0 57.0 8.0 39.0 66.0 81.0 14.0 27.0 83.0 30.0 4.0 3.0 6.0\n",
            " 32.0 80.0 49.0 90.0 78.0 19.0 2.0 33.0 36.0 37.0 23.0 25.0 20.0 29.0 28.0\n",
            " 22.0 79.0]\n",
            "\n",
            "\n",
            "\n",
            "bp\n",
            "\n",
            "[80.0 50.0 70.0 90.0 100.0 60.0 110.0 140.0 180.0 120.0]\n",
            "\n",
            "\n",
            "\n",
            "sg\n",
            "\n",
            "[1.02 1.01 1.005 1.015 1.025]\n",
            "\n",
            "\n",
            "\n",
            "al\n",
            "\n",
            "[1.0 4.0 2.0 3.0 0.0 5.0]\n",
            "\n",
            "\n",
            "\n",
            "su\n",
            "\n",
            "[0.0 3.0 4.0 1.0 2.0 5.0]\n",
            "\n",
            "\n",
            "\n",
            "rbc\n",
            "\n",
            "['normal' 'abnormal']\n",
            "\n",
            "\n",
            "\n",
            "pc\n",
            "\n",
            "['normal' 'abnormal']\n",
            "\n",
            "\n",
            "\n",
            "pcc\n",
            "\n",
            "['notpresent' 'present']\n",
            "\n",
            "\n",
            "\n",
            "ba\n",
            "\n",
            "['notpresent' 'present']\n",
            "\n",
            "\n",
            "\n",
            "bgr\n",
            "\n",
            "[121.0 99.0 423.0 117.0 106.0 74.0 100.0 410.0 138.0 70.0 490.0 380.0\n",
            " 208.0 98.0 157.0 76.0 114.0 263.0 173.0 95.0 108.0 156.0 264.0 123.0 93.0\n",
            " 107.0 159.0 140.0 171.0 270.0 92.0 137.0 204.0 79.0 207.0 124.0 144.0\n",
            " 91.0 162.0 246.0 253.0 141.0 182.0 86.0 150.0 146.0 425.0 112.0 250.0\n",
            " 360.0 163.0 129.0 133.0 102.0 158.0 165.0 132.0 104.0 127.0 415.0 169.0\n",
            " 251.0 109.0 280.0 210.0 219.0 295.0 94.0 172.0 101.0 298.0 153.0 88.0\n",
            " 226.0 143.0 115.0 89.0 297.0 233.0 294.0 323.0 125.0 90.0 308.0 118.0\n",
            " 224.0 128.0 122.0 214.0 213.0 268.0 256.0 84.0 105.0 288.0 139.0 78.0\n",
            " 273.0 242.0 424.0 303.0 148.0 160.0 192.0 307.0 220.0 447.0 309.0 22.0\n",
            " 111.0 261.0 215.0 234.0 131.0 352.0 80.0 239.0 110.0 130.0 184.0 252.0\n",
            " 113.0 230.0 341.0 255.0 103.0 238.0 248.0 120.0 241.0 269.0 201.0 203.0\n",
            " 463.0 176.0 82.0 119.0 97.0 96.0 81.0 116.0 134.0 85.0 83.0 87.0 75.0]\n",
            "\n",
            "\n",
            "\n",
            "bu\n",
            "\n",
            "[36.0 18.0 53.0 56.0 26.0 25.0 54.0 31.0 60.0 107.0 55.0 72.0 86.0 90.0\n",
            " 162.0 46.0 87.0 27.0 148.0 180.0 163.0 50.0 75.0 45.0 28.0 155.0 33.0\n",
            " 39.0 153.0 29.0 65.0 103.0 70.0 80.0 20.0 202.0 77.0 89.0 24.0 17.0 32.0\n",
            " 114.0 66.0 38.0 164.0 142.0 96.0 391.0 15.0 111.0 73.0 19.0 92.0 35.0\n",
            " 16.0 139.0 48.0 85.0 98.0 186.0 37.0 47.0 52.0 82.0 51.0 106.0 22.0 217.0\n",
            " 88.0 118.0 50.1 71.0 34.0 40.0 21.0 219.0 30.0 125.0 166.0 49.0 208.0\n",
            " 176.0 68.0 145.0 165.0 322.0 23.0 235.0 132.0 76.0 42.0 44.0 41.0 113.0\n",
            " 1.5 146.0 58.0 133.0 137.0 67.0 115.0 223.0 98.6 158.0 94.0 74.0 150.0\n",
            " 61.0 57.0 95.0 191.0 93.0 241.0 64.0 79.0 215.0 309.0 10.0]\n",
            "\n",
            "\n",
            "\n",
            "sc\n",
            "\n",
            "[1.2 0.8 1.8 3.8 1.4 1.1 24.0 1.9 7.2 4.0 2.7 2.1 4.6 4.1 9.6 2.2 5.2 1.3\n",
            " 1.6 3.9 76.0 7.7 2.4 7.3 1.5 2.5 2.0 3.4 0.7 1.0 10.8 6.3 5.9 0.9 3.0\n",
            " 3.25 9.7 6.4 3.2 32.0 0.6 6.1 3.3 6.7 8.5 2.8 15.0 2.9 1.7 3.6 5.6 6.5\n",
            " 4.4 10.2 11.5 0.5 12.2 5.3 9.2 13.8 16.9 6.0 7.1 18.0 2.3 13.0 48.1 14.2\n",
            " 16.4 2.6 7.5 4.3 18.1 11.8 9.3 6.8 13.5 12.8 11.9 12.0 13.4 15.2 13.3 0.4]\n",
            "\n",
            "\n",
            "\n",
            "sod\n",
            "\n",
            "[135.0 111.0 142.0 104.0 114.0 131.0 138.0 130.0 141.0 139.0 4.5 136.0\n",
            " 129.0 140.0 132.0 133.0 134.0 125.0 163.0 137.0 128.0 143.0 127.0 146.0\n",
            " 126.0 122.0 147.0 124.0 115.0 145.0 113.0 120.0 150.0 144.0]\n",
            "\n",
            "\n",
            "\n",
            "pot\n",
            "\n",
            "[3.5 2.5 3.2 4.0 3.7 4.2 5.8 3.4 6.4 4.9 4.1 4.3 5.2 3.8 4.6 3.9 4.7 5.9\n",
            " 4.8 4.4 6.6 39.0 5.5 5.0 3.6 7.6 2.9 4.5 5.7 5.4 5.3 47.0 6.3 5.1 5.6 3.0\n",
            " 2.8 2.7 6.5 3.3]\n",
            "\n",
            "\n",
            "\n",
            "hemo\n",
            "\n",
            "[15.4 11.3 9.6 11.2 11.6 12.2 12.4 10.8 9.5 9.4 9.7 9.8 5.6 7.6 12.6 12.1\n",
            " 12.7 10.3 7.7 10.9 15.0 11.1 9.9 12.5 12.9 10.1 12.0 13.0 7.9 9.3 10.0\n",
            " 8.6 13.6 10.2 10.5 6.6 11.0 7.5 15.6 15.2 4.8 9.1 8.1 11.9 13.5 8.3 7.1\n",
            " 16.1 10.4 9.2 6.2 13.9 14.1 6.0 11.8 11.7 11.4 14.0 8.2 13.2 6.1 8.0 12.3\n",
            " 8.4 14.3 9.0 8.7 10.6 13.1 10.7 5.5 5.8 6.8 8.8 8.5 13.8 11.5 7.3 13.7\n",
            " 12.8 13.4 6.3 3.1 17.0 15.9 14.5 15.5 16.2 14.4 14.2 16.3 14.8 16.5 15.7\n",
            " 13.3 14.6 16.4 16.9 16.0 14.7 16.6 14.9 16.7 16.8 15.8 15.1 17.1 17.2\n",
            " 15.3 17.3 17.4 17.7 17.8 17.5 17.6]\n",
            "\n",
            "\n",
            "\n",
            "pcv\n",
            "\n",
            "['44' '38' '31' '32' '35' '39' '36' '33' '29' '28' '41' '16' '24' '37'\n",
            " '30' '34' '40' '45' '27' '48' '52' '14' '22' '18' '42' '17' '46' '23'\n",
            " '19' '25' '26' '15' '21' '43' '20' '47' '9' '49' '50' '53' '51' '54']\n",
            "\n",
            "\n",
            "\n",
            "wc\n",
            "\n",
            "['7800' '6000' '7500' '6700' '7300' '9800' '6900' '9600' '12100' '4500'\n",
            " '12200' '11000' '3800' '11400' '5300' '9200' '6200' '8300' '8400' '10300'\n",
            " '9100' '7900' '6400' '8600' '18900' '21600' '4300' '8500' '11300' '7200'\n",
            " '7700' '14600' '6300' '7100' '11800' '9400' '5500' '5800' '13200' '12500'\n",
            " '5600' '7000' '11900' '10400' '10700' '12700' '6800' '6500' '13600'\n",
            " '10200' '9000' '14900' '8200' '15200' '5000' '16300' '12400' '10500'\n",
            " '4200' '4700' '10900' '8100' '9500' '2200' '12800' '11200' '19100'\n",
            " '12300' '16700' '2600' '26400' '8800' '7400' '4900' '8000' '12000'\n",
            " '15700' '4100' '5700' '11500' '5400' '10800' '9900' '5200' '5900' '9300'\n",
            " '9700' '5100' '6600']\n",
            "\n",
            "\n",
            "\n",
            "rc\n",
            "\n",
            "['5.2' '3.9' '4.6' '4.4' '5' '4.0' '3.7' '3.8' '3.4' '2.6' '2.8' '4.3'\n",
            " '3.2' '3.6' '4' '4.1' '4.9' '2.5' '4.2' '4.5' '3.1' '4.7' '3.5' '6.0'\n",
            " '5.0' '2.1' '5.6' '2.3' '2.9' '2.7' '8.0' '3.3' '3.0' '3' '2.4' '4.8'\n",
            " '5.4' '6.1' '6.2' '6.3' '5.1' '5.8' '5.5' '5.3' '6.4' '5.7' '5.9' '6.5']\n",
            "\n",
            "\n",
            "\n",
            "htn\n",
            "\n",
            "['yes' 'no']\n",
            "\n",
            "\n",
            "\n",
            "dm\n",
            "\n",
            "['5.2' '3.9' '4.6' '4.4' '5' '4.0' '3.7' '3.8' '3.4' '2.6' '2.8' '4.3'\n",
            " '3.2' '3.6' '4' '4.1' '4.9' '2.5' '4.2' '4.5' '3.1' '4.7' '3.5' '6.0'\n",
            " '5.0' '2.1' '5.6' '2.3' '2.9' '2.7' '8.0' '3.3' '3.0' '3' '2.4' '4.8'\n",
            " '5.4' '6.1' '6.2' '6.3' '5.1' '5.8' '5.5' '5.3' '6.4' '5.7' '5.9' '6.5']\n",
            "\n",
            "\n",
            "\n",
            "cad\n",
            "\n",
            "['no' 'yes']\n",
            "\n",
            "\n",
            "\n",
            "appet\n",
            "\n",
            "['good' 'poor']\n",
            "\n",
            "\n",
            "\n",
            "pe\n",
            "\n",
            "['no' 'yes']\n",
            "\n",
            "\n",
            "\n",
            "ane\n",
            "\n",
            "['no' 'yes']\n",
            "\n",
            "\n",
            "\n",
            "classification\n",
            "\n",
            "['ckd' 'notckd']\n",
            "\n",
            "\n",
            "\n"
          ]
        }
      ]
    },
    {
      "cell_type": "code",
      "source": [
        "df.info()"
      ],
      "metadata": {
        "colab": {
          "base_uri": "https://localhost:8080/"
        },
        "id": "hplfEKUrdCiq",
        "outputId": "12871a0a-4ff5-48d4-e237-27e1990e18b0"
      },
      "execution_count": 13,
      "outputs": [
        {
          "output_type": "stream",
          "name": "stdout",
          "text": [
            "<class 'pandas.core.frame.DataFrame'>\n",
            "RangeIndex: 400 entries, 0 to 399\n",
            "Data columns (total 26 columns):\n",
            " #   Column          Non-Null Count  Dtype  \n",
            "---  ------          --------------  -----  \n",
            " 0   id              400 non-null    int64  \n",
            " 1   age             391 non-null    float64\n",
            " 2   bp              388 non-null    float64\n",
            " 3   sg              353 non-null    float64\n",
            " 4   al              354 non-null    float64\n",
            " 5   su              351 non-null    float64\n",
            " 6   rbc             248 non-null    object \n",
            " 7   pc              335 non-null    object \n",
            " 8   pcc             396 non-null    object \n",
            " 9   ba              396 non-null    object \n",
            " 10  bgr             356 non-null    float64\n",
            " 11  bu              381 non-null    float64\n",
            " 12  sc              383 non-null    float64\n",
            " 13  sod             313 non-null    float64\n",
            " 14  pot             312 non-null    float64\n",
            " 15  hemo            348 non-null    float64\n",
            " 16  pcv             330 non-null    object \n",
            " 17  wc              295 non-null    object \n",
            " 18  rc              270 non-null    object \n",
            " 19  htn             398 non-null    object \n",
            " 20  dm              398 non-null    object \n",
            " 21  cad             398 non-null    object \n",
            " 22  appet           399 non-null    object \n",
            " 23  pe              399 non-null    object \n",
            " 24  ane             399 non-null    object \n",
            " 25  classification  400 non-null    object \n",
            "dtypes: float64(11), int64(1), object(14)\n",
            "memory usage: 81.4+ KB\n"
          ]
        }
      ]
    },
    {
      "cell_type": "code",
      "source": [
        "df_imputed.info()"
      ],
      "metadata": {
        "colab": {
          "base_uri": "https://localhost:8080/"
        },
        "id": "KMoBJYz6c2Iz",
        "outputId": "4cac6883-d483-4af3-e480-5f1c5fc91761"
      },
      "execution_count": 14,
      "outputs": [
        {
          "output_type": "stream",
          "name": "stdout",
          "text": [
            "<class 'pandas.core.frame.DataFrame'>\n",
            "RangeIndex: 400 entries, 0 to 399\n",
            "Data columns (total 26 columns):\n",
            " #   Column          Non-Null Count  Dtype \n",
            "---  ------          --------------  ----- \n",
            " 0   id              400 non-null    object\n",
            " 1   age             400 non-null    object\n",
            " 2   bp              400 non-null    object\n",
            " 3   sg              400 non-null    object\n",
            " 4   al              400 non-null    object\n",
            " 5   su              400 non-null    object\n",
            " 6   rbc             400 non-null    object\n",
            " 7   pc              400 non-null    object\n",
            " 8   pcc             400 non-null    object\n",
            " 9   ba              400 non-null    object\n",
            " 10  bgr             400 non-null    object\n",
            " 11  bu              400 non-null    object\n",
            " 12  sc              400 non-null    object\n",
            " 13  sod             400 non-null    object\n",
            " 14  pot             400 non-null    object\n",
            " 15  hemo            400 non-null    object\n",
            " 16  pcv             400 non-null    object\n",
            " 17  wc              400 non-null    object\n",
            " 18  rc              400 non-null    object\n",
            " 19  htn             400 non-null    object\n",
            " 20  dm              400 non-null    object\n",
            " 21  cad             400 non-null    object\n",
            " 22  appet           400 non-null    object\n",
            " 23  pe              400 non-null    object\n",
            " 24  ane             400 non-null    object\n",
            " 25  classification  400 non-null    object\n",
            "dtypes: object(26)\n",
            "memory usage: 81.4+ KB\n"
          ]
        }
      ]
    },
    {
      "cell_type": "code",
      "source": [
        "# fix data type\n",
        "for i in df.select_dtypes(exclude = ['object']).columns:\n",
        "  df_imputed[i] = df_imputed[i].astype(\"float\")"
      ],
      "metadata": {
        "id": "A-VrmcLUdH4-"
      },
      "execution_count": 15,
      "outputs": []
    },
    {
      "cell_type": "code",
      "source": [
        "df_imputed.info()"
      ],
      "metadata": {
        "colab": {
          "base_uri": "https://localhost:8080/"
        },
        "id": "JzNg_SDMgEC-",
        "outputId": "da0c00d5-5203-45e8-eb30-a5e92e679162"
      },
      "execution_count": 16,
      "outputs": [
        {
          "output_type": "stream",
          "name": "stdout",
          "text": [
            "<class 'pandas.core.frame.DataFrame'>\n",
            "RangeIndex: 400 entries, 0 to 399\n",
            "Data columns (total 26 columns):\n",
            " #   Column          Non-Null Count  Dtype  \n",
            "---  ------          --------------  -----  \n",
            " 0   id              400 non-null    float64\n",
            " 1   age             400 non-null    float64\n",
            " 2   bp              400 non-null    float64\n",
            " 3   sg              400 non-null    float64\n",
            " 4   al              400 non-null    float64\n",
            " 5   su              400 non-null    float64\n",
            " 6   rbc             400 non-null    object \n",
            " 7   pc              400 non-null    object \n",
            " 8   pcc             400 non-null    object \n",
            " 9   ba              400 non-null    object \n",
            " 10  bgr             400 non-null    float64\n",
            " 11  bu              400 non-null    float64\n",
            " 12  sc              400 non-null    float64\n",
            " 13  sod             400 non-null    float64\n",
            " 14  pot             400 non-null    float64\n",
            " 15  hemo            400 non-null    float64\n",
            " 16  pcv             400 non-null    object \n",
            " 17  wc              400 non-null    object \n",
            " 18  rc              400 non-null    object \n",
            " 19  htn             400 non-null    object \n",
            " 20  dm              400 non-null    object \n",
            " 21  cad             400 non-null    object \n",
            " 22  appet           400 non-null    object \n",
            " 23  pe              400 non-null    object \n",
            " 24  ane             400 non-null    object \n",
            " 25  classification  400 non-null    object \n",
            "dtypes: float64(12), object(14)\n",
            "memory usage: 81.4+ KB\n"
          ]
        }
      ]
    },
    {
      "cell_type": "code",
      "source": [
        "# outliers check\n",
        "for i in df_imputed.select_dtypes(exclude = ['object']).columns[1:]:\n",
        "  sns.boxplot(x=df[i])\n",
        "  plt.show()"
      ],
      "metadata": {
        "colab": {
          "base_uri": "https://localhost:8080/",
          "height": 1000
        },
        "id": "Cup1BtyGgk5z",
        "outputId": "200e261f-4c43-42f2-9146-8039d8d47cd1"
      },
      "execution_count": 17,
      "outputs": [
        {
          "output_type": "display_data",
          "data": {
            "text/plain": [
              "<Figure size 432x288 with 1 Axes>"
            ],
            "image/png": "[encoded data removed]"
          },
          "metadata": {
            "needs_background": "light"
          }
        },
        {
          "output_type": "display_data",
          "data": {
            "text/plain": [
              "<Figure size 432x288 with 1 Axes>"
            ],
            "image/png": "[encoded data removed]"
          },
          "metadata": {
            "needs_background": "light"
          }
        },
        {
          "output_type": "display_data",
          "data": {
            "text/plain": [
              "<Figure size 432x288 with 1 Axes>"
            ],
            "image/png": "[encoded data removed]"
          },
          "metadata": {
            "needs_background": "light"
          }
        },
        {
          "output_type": "display_data",
          "data": {
            "text/plain": [
              "<Figure size 432x288 with 1 Axes>"
            ],
            "image/png": "[encoded data removed]"
          },
          "metadata": {
            "needs_background": "light"
          }
        },
        {
          "output_type": "display_data",
          "data": {
            "text/plain": [
              "<Figure size 432x288 with 1 Axes>"
            ],
            "image/png": "[encoded data removed]"
          },
          "metadata": {
            "needs_background": "light"
          }
        },
        {
          "output_type": "display_data",
          "data": {
            "text/plain": [
              "<Figure size 432x288 with 1 Axes>"
            ],
            "image/png": "[encoded data removed]"
          },
          "metadata": {
            "needs_background": "light"
          }
        },
        {
          "output_type": "display_data",
          "data": {
            "text/plain": [
              "<Figure size 432x288 with 1 Axes>"
            ],
            "image/png": "[encoded data removed]"
          },
          "metadata": {
            "needs_background": "light"
          }
        },
        {
          "output_type": "display_data",
          "data": {
            "text/plain": [
              "<Figure size 432x288 with 1 Axes>"
            ],
            "image/png": "[encoded data removed]"
          },
          "metadata": {
            "needs_background": "light"
          }
        },
        {
          "output_type": "display_data",
          "data": {
            "text/plain": [
              "<Figure size 432x288 with 1 Axes>"
            ],
            "image/png": "[encoded data removed]"
          },
          "metadata": {
            "needs_background": "light"
          }
        },
        {
          "output_type": "display_data",
          "data": {
            "text/plain": [
              "<Figure size 432x288 with 1 Axes>"
            ],
            "image/png": "[encoded data removed]"
          },
          "metadata": {
            "needs_background": "light"
          }
        },
        {
          "output_type": "display_data",
          "data": {
            "text/plain": [
              "<Figure size 432x288 with 1 Axes>"
            ],
            "image/png": "[encoded data removed]"
          },
          "metadata": {
            "needs_background": "light"
          }
        }
      ]
    },
    {
      "cell_type": "markdown",
      "source": [
        "This dataset has no outliers (mentioned by the data set providers)"
      ],
      "metadata": {
        "id": "8-qgHmozoaee"
      }
    },
    {
      "cell_type": "code",
      "source": [
        "# encode the data\n",
        "data_encoded = df_imputed.apply(preprocessing.LabelEncoder().fit_transform)"
      ],
      "metadata": {
        "id": "4BuA_BG2ogQY"
      },
      "execution_count": 18,
      "outputs": []
    },
    {
      "cell_type": "code",
      "source": [
        "data_encoded.head()"
      ],
      "metadata": {
        "colab": {
          "base_uri": "https://localhost:8080/",
          "height": 235
        },
        "id": "ti1y6v_Ppjw2",
        "outputId": "ce53825c-8e0d-461d-90a4-b5fe194a48cc"
      },
      "execution_count": 19,
      "outputs": [
        {
          "output_type": "execute_result",
          "data": {
            "text/plain": [
              "   id  age  bp  sg  al  su  rbc  pc  pcc  ba  ...  pcv  wc  rc  htn  dm  cad  \\\n",
              "0   0   40   3   3   1   0    1   1    0   0  ...   30  69  33    1  33    0   \n",
              "1   1    5   0   3   4   0    1   1    0   0  ...   24  53  33    0  33    0   \n",
              "2   2   54   3   1   2   3    1   1    0   0  ...   17  67  33    0  33    0   \n",
              "3   3   40   2   0   4   0    1   0    1   0  ...   18  59  18    1  18    0   \n",
              "4   4   43   3   1   2   0    1   1    0   0  ...   21  65  26    0  26    0   \n",
              "\n",
              "   appet  pe  ane  classification  \n",
              "0      0   0    0               0  \n",
              "1      0   0    0               0  \n",
              "2      1   0    1               0  \n",
              "3      1   1    1               0  \n",
              "4      0   0    0               0  \n",
              "\n",
              "[5 rows x 26 columns]"
            ],
            "text/html": [
              "\n",
              "  <div id=\"df-daf72b45-3d68-4258-be43-a2d37cc706e1\">\n",
              "    <div class=\"colab-df-container\">\n",
              "      <div>\n",
              "<style scoped>\n",
              "    .dataframe tbody tr th:only-of-type {\n",
              "        vertical-align: middle;\n",
              "    }\n",
              "\n",
              "    .dataframe tbody tr th {\n",
              "        vertical-align: top;\n",
              "    }\n",
              "\n",
              "    .dataframe thead th {\n",
              "        text-align: right;\n",
              "    }\n",
              "</style>\n",
              "<table border=\"1\" class=\"dataframe\">\n",
              "  <thead>\n",
              "    <tr style=\"text-align: right;\">\n",
              "      <th></th>\n",
              "      <th>id</th>\n",
              "      <th>age</th>\n",
              "      <th>bp</th>\n",
              "      <th>sg</th>\n",
              "      <th>al</th>\n",
              "      <th>su</th>\n",
              "      <th>rbc</th>\n",
              "      <th>pc</th>\n",
              "      <th>pcc</th>\n",
              "      <th>ba</th>\n",
              "      <th>...</th>\n",
              "      <th>pcv</th>\n",
              "      <th>wc</th>\n",
              "      <th>rc</th>\n",
              "      <th>htn</th>\n",
              "      <th>dm</th>\n",
              "      <th>cad</th>\n",
              "      <th>appet</th>\n",
              "      <th>pe</th>\n",
              "      <th>ane</th>\n",
              "      <th>classification</th>\n",
              "    </tr>\n",
              "  </thead>\n",
              "  <tbody>\n",
              "    <tr>\n",
              "      <th>0</th>\n",
              "      <td>0</td>\n",
              "      <td>40</td>\n",
              "      <td>3</td>\n",
              "      <td>3</td>\n",
              "      <td>1</td>\n",
              "      <td>0</td>\n",
              "      <td>1</td>\n",
              "      <td>1</td>\n",
              "      <td>0</td>\n",
              "      <td>0</td>\n",
              "      <td>...</td>\n",
              "      <td>30</td>\n",
              "      <td>69</td>\n",
              "      <td>33</td>\n",
              "      <td>1</td>\n",
              "      <td>33</td>\n",
              "      <td>0</td>\n",
              "      <td>0</td>\n",
              "      <td>0</td>\n",
              "      <td>0</td>\n",
              "      <td>0</td>\n",
              "    </tr>\n",
              "    <tr>\n",
              "      <th>1</th>\n",
              "      <td>1</td>\n",
              "      <td>5</td>\n",
              "      <td>0</td>\n",
              "      <td>3</td>\n",
              "      <td>4</td>\n",
              "      <td>0</td>\n",
              "      <td>1</td>\n",
              "      <td>1</td>\n",
              "      <td>0</td>\n",
              "      <td>0</td>\n",
              "      <td>...</td>\n",
              "      <td>24</td>\n",
              "      <td>53</td>\n",
              "      <td>33</td>\n",
              "      <td>0</td>\n",
              "      <td>33</td>\n",
              "      <td>0</td>\n",
              "      <td>0</td>\n",
              "      <td>0</td>\n",
              "      <td>0</td>\n",
              "      <td>0</td>\n",
              "    </tr>\n",
              "    <tr>\n",
              "      <th>2</th>\n",
              "      <td>2</td>\n",
              "      <td>54</td>\n",
              "      <td>3</td>\n",
              "      <td>1</td>\n",
              "      <td>2</td>\n",
              "      <td>3</td>\n",
              "      <td>1</td>\n",
              "      <td>1</td>\n",
              "      <td>0</td>\n",
              "      <td>0</td>\n",
              "      <td>...</td>\n",
              "      <td>17</td>\n",
              "      <td>67</td>\n",
              "      <td>33</td>\n",
              "      <td>0</td>\n",
              "      <td>33</td>\n",
              "      <td>0</td>\n",
              "      <td>1</td>\n",
              "      <td>0</td>\n",
              "      <td>1</td>\n",
              "      <td>0</td>\n",
              "    </tr>\n",
              "    <tr>\n",
              "      <th>3</th>\n",
              "      <td>3</td>\n",
              "      <td>40</td>\n",
              "      <td>2</td>\n",
              "      <td>0</td>\n",
              "      <td>4</td>\n",
              "      <td>0</td>\n",
              "      <td>1</td>\n",
              "      <td>0</td>\n",
              "      <td>1</td>\n",
              "      <td>0</td>\n",
              "      <td>...</td>\n",
              "      <td>18</td>\n",
              "      <td>59</td>\n",
              "      <td>18</td>\n",
              "      <td>1</td>\n",
              "      <td>18</td>\n",
              "      <td>0</td>\n",
              "      <td>1</td>\n",
              "      <td>1</td>\n",
              "      <td>1</td>\n",
              "      <td>0</td>\n",
              "    </tr>\n",
              "    <tr>\n",
              "      <th>4</th>\n",
              "      <td>4</td>\n",
              "      <td>43</td>\n",
              "      <td>3</td>\n",
              "      <td>1</td>\n",
              "      <td>2</td>\n",
              "      <td>0</td>\n",
              "      <td>1</td>\n",
              "      <td>1</td>\n",
              "      <td>0</td>\n",
              "      <td>0</td>\n",
              "      <td>...</td>\n",
              "      <td>21</td>\n",
              "      <td>65</td>\n",
              "      <td>26</td>\n",
              "      <td>0</td>\n",
              "      <td>26</td>\n",
              "      <td>0</td>\n",
              "      <td>0</td>\n",
              "      <td>0</td>\n",
              "      <td>0</td>\n",
              "      <td>0</td>\n",
              "    </tr>\n",
              "  </tbody>\n",
              "</table>\n",
              "<p>5 rows × 26 columns</p>\n",
              "</div>\n",
              "      <button class=\"colab-df-convert\" onclick=\"convertToInteractive('df-daf72b45-3d68-4258-be43-a2d37cc706e1')\"\n",
              "              title=\"Convert this dataframe to an interactive table.\"\n",
              "              style=\"display:none;\">\n",
              "        \n",
              "  <svg xmlns=\"http://www.w3.org/2000/svg\" height=\"24px\"viewBox=\"0 0 24 24\"\n",
              "       width=\"24px\">\n",
              "    <path d=\"M0 0h24v24H0V0z\" fill=\"none\"/>\n",
              "    <path d=\"M18.56 5.44l.94 2.06.94-2.06 2.06-.94-2.06-.94-.94-2.06-.94 2.06-2.06.94zm-11 1L8.5 8.5l.94-2.06 2.06-.94-2.06-.94L8.5 2.5l-.94 2.06-2.06.94zm10 10l.94 2.06.94-2.06 2.06-.94-2.06-.94-.94-2.06-.94 2.06-2.06.94z\"/><path d=\"M17.41 7.96l-1.37-1.37c-.4-.4-.92-.59-1.43-.59-.52 0-1.04.2-1.43.59L10.3 9.45l-7.72 7.72c-.78.78-.78 2.05 0 2.83L4 21.41c.39.39.9.59 1.41.59.51 0 1.02-.2 1.41-.59l7.78-7.78 2.81-2.81c.8-.78.8-2.07 0-2.86zM5.41 20L4 18.59l7.72-7.72 1.47 1.35L5.41 20z\"/>\n",
              "  </svg>\n",
              "      </button>\n",
              "      \n",
              "  <style>\n",
              "    .colab-df-container {\n",
              "      display:flex;\n",
              "      flex-wrap:wrap;\n",
              "      gap: 12px;\n",
              "    }\n",
              "\n",
              "    .colab-df-convert {\n",
              "      background-color: #E8F0FE;\n",
              "      border: none;\n",
              "      border-radius: 50%;\n",
              "      cursor: pointer;\n",
              "      display: none;\n",
              "      fill: #1967D2;\n",
              "      height: 32px;\n",
              "      padding: 0 0 0 0;\n",
              "      width: 32px;\n",
              "    }\n",
              "\n",
              "    .colab-df-convert:hover {\n",
              "      background-color: #E2EBFA;\n",
              "      box-shadow: 0px 1px 2px rgba(60, 64, 67, 0.3), 0px 1px 3px 1px rgba(60, 64, 67, 0.15);\n",
              "      fill: #174EA6;\n",
              "    }\n",
              "\n",
              "    [theme=dark] .colab-df-convert {\n",
              "      background-color: #3B4455;\n",
              "      fill: #D2E3FC;\n",
              "    }\n",
              "\n",
              "    [theme=dark] .colab-df-convert:hover {\n",
              "      background-color: #434B5C;\n",
              "      box-shadow: 0px 1px 3px 1px rgba(0, 0, 0, 0.15);\n",
              "      filter: drop-shadow(0px 1px 2px rgba(0, 0, 0, 0.3));\n",
              "      fill: #FFFFFF;\n",
              "    }\n",
              "  </style>\n",
              "\n",
              "      <script>\n",
              "        const buttonEl =\n",
              "          document.querySelector('#df-daf72b45-3d68-4258-be43-a2d37cc706e1 button.colab-df-convert');\n",
              "        buttonEl.style.display =\n",
              "          google.colab.kernel.accessAllowed ? 'block' : 'none';\n",
              "\n",
              "        async function convertToInteractive(key) {\n",
              "          const element = document.querySelector('#df-daf72b45-3d68-4258-be43-a2d37cc706e1');\n",
              "          const dataTable =\n",
              "            await google.colab.kernel.invokeFunction('convertToInteractive',\n",
              "                                                     [key], {});\n",
              "          if (!dataTable) return;\n",
              "\n",
              "          const docLinkHtml = 'Like what you see? Visit the ' +\n",
              "            '<a target=\"_blank\" href=https://colab.research.google.com/notebooks/data_table.ipynb>data table notebook</a>'\n",
              "            + ' to learn more about interactive tables.';\n",
              "          element.innerHTML = '';\n",
              "          dataTable['output_type'] = 'display_data';\n",
              "          await google.colab.output.renderOutput(dataTable, element);\n",
              "          const docLink = document.createElement('div');\n",
              "          docLink.innerHTML = docLinkHtml;\n",
              "          element.appendChild(docLink);\n",
              "        }\n",
              "      </script>\n",
              "    </div>\n",
              "  </div>\n",
              "  "
            ]
          },
          "metadata": {},
          "execution_count": 19
        }
      ]
    },
    {
      "cell_type": "code",
      "source": [
        "# find correlation\n",
        "plt.figure(figsize =(20,20))\n",
        "corr = data_encoded.corr()\n",
        "sns.heatmap(corr, annot=True)"
      ],
      "metadata": {
        "colab": {
          "base_uri": "https://localhost:8080/",
          "height": 1000
        },
        "id": "TxK7yabxpsnZ",
        "outputId": "2f636798-73de-4cf8-c254-4a54169e3333"
      },
      "execution_count": 20,
      "outputs": [
        {
          "output_type": "execute_result",
          "data": {
            "text/plain": [
              "<matplotlib.axes._subplots.AxesSubplot at 0x7f9500b2fc70>"
            ]
          },
          "metadata": {},
          "execution_count": 20
        },
        {
          "output_type": "display_data",
          "data": {
            "text/plain": [
              "<Figure size 1440x1440 with 2 Axes>"
            ],
            "image/png": "[encoded data removed]"
          },
          "metadata": {
            "needs_background": "light"
          }
        }
      ]
    },
    {
      "cell_type": "markdown",
      "source": [
        "No data needed to be dropped."
      ],
      "metadata": {
        "id": "bWguUwiCqmwz"
      }
    },
    {
      "cell_type": "code",
      "source": [
        "# find data imbalance\n",
        "data_encoded['classification'].value_counts()"
      ],
      "metadata": {
        "colab": {
          "base_uri": "https://localhost:8080/"
        },
        "id": "UwZDhzPPr4CG",
        "outputId": "cee25af0-283e-4477-d9c9-77b39838d3ed"
      },
      "execution_count": 21,
      "outputs": [
        {
          "output_type": "execute_result",
          "data": {
            "text/plain": [
              "0    250\n",
              "1    150\n",
              "Name: classification, dtype: int64"
            ]
          },
          "metadata": {},
          "execution_count": 21
        }
      ]
    },
    {
      "cell_type": "markdown",
      "source": [
        "*   0 means 'ckd'\n",
        "*   1 means 'not ckd'\n",
        "\n"
      ],
      "metadata": {
        "id": "VlJzgv8RsaZ_"
      }
    },
    {
      "cell_type": "code",
      "source": [
        "# separate data and lable\n",
        "X = data_encoded.drop(['id','classification'], axis = 1)\n",
        "y = data_encoded['classification']"
      ],
      "metadata": {
        "id": "72TNEpXLqpPm"
      },
      "execution_count": 22,
      "outputs": []
    },
    {
      "cell_type": "code",
      "source": [
        "X.shape"
      ],
      "metadata": {
        "colab": {
          "base_uri": "https://localhost:8080/"
        },
        "id": "eXiYA25Dr1MP",
        "outputId": "9f9074c8-f56b-449b-fbf2-3b4b8f6626bb"
      },
      "execution_count": 23,
      "outputs": [
        {
          "output_type": "execute_result",
          "data": {
            "text/plain": [
              "(400, 24)"
            ]
          },
          "metadata": {},
          "execution_count": 23
        }
      ]
    },
    {
      "cell_type": "code",
      "source": [
        "# fix data imbalance\n",
        "sampler = RandomOverSampler(random_state=3)\n",
        "X_res, y_res = sampler.fit_resample(X,y)"
      ],
      "metadata": {
        "id": "6Xi6mmGWq_yw"
      },
      "execution_count": 24,
      "outputs": []
    },
    {
      "cell_type": "code",
      "source": [
        "y_res.value_counts()"
      ],
      "metadata": {
        "colab": {
          "base_uri": "https://localhost:8080/"
        },
        "id": "XGfc1uRlslb3",
        "outputId": "e073363e-0671-4cbe-d1d6-597bc9c72cbd"
      },
      "execution_count": 25,
      "outputs": [
        {
          "output_type": "execute_result",
          "data": {
            "text/plain": [
              "0    250\n",
              "1    250\n",
              "Name: classification, dtype: int64"
            ]
          },
          "metadata": {},
          "execution_count": 25
        }
      ]
    },
    {
      "cell_type": "code",
      "source": [
        "# scaling\n",
        "scaler = MinMaxScaler(feature_range = (-1,1))\n",
        "X_scaled = scaler.fit_transform(X_res) "
      ],
      "metadata": {
        "id": "2GJLvZt1sr0O"
      },
      "execution_count": 26,
      "outputs": []
    },
    {
      "cell_type": "code",
      "source": [
        "print(X_scaled[20])"
      ],
      "metadata": {
        "colab": {
          "base_uri": "https://localhost:8080/"
        },
        "id": "ZHn9nm84tGlG",
        "outputId": "679b3a2a-cea8-4af1-813f-f926761603c4"
      },
      "execution_count": 27,
      "outputs": [
        {
          "output_type": "stream",
          "name": "stdout",
          "text": [
            "[ 0.41333333 -0.33333333  0.         -0.2        -1.         -1.\n",
            " -1.         -1.         -1.          0.14482759  0.58974359 -0.20481928\n",
            "  0.15151515  0.28205128 -0.73684211 -0.51219512  0.84090909 -0.53191489\n",
            "  1.         -0.53191489  1.          1.          1.          1.        ]\n"
          ]
        }
      ]
    },
    {
      "cell_type": "code",
      "source": [
        "# PCA\n",
        "\n",
        "pca = PCA(0.95)\n",
        "X_pca = pca.fit_transform(X_scaled)\n",
        "y_pca = y_res"
      ],
      "metadata": {
        "id": "jJWS5A_ctl0G"
      },
      "execution_count": 28,
      "outputs": []
    },
    {
      "cell_type": "code",
      "source": [
        "print(X_scaled.shape)\n",
        "print(X_pca.shape)\n",
        "print(y_pca.shape)"
      ],
      "metadata": {
        "colab": {
          "base_uri": "https://localhost:8080/"
        },
        "id": "PdOqLQG2uUBh",
        "outputId": "b97b2989-9217-4094-bc23-c79ec605bf60"
      },
      "execution_count": 29,
      "outputs": [
        {
          "output_type": "stream",
          "name": "stdout",
          "text": [
            "(500, 24)\n",
            "(500, 18)\n",
            "(500,)\n"
          ]
        }
      ]
    },
    {
      "cell_type": "code",
      "source": [
        "# train test split\n",
        "\n",
        "X_train, X_test, y_train, y_test = train_test_split(X_pca, y_pca, test_size = 0.2, random_state = 13, stratify = y_pca)"
      ],
      "metadata": {
        "id": "m3hhqNvnvPPW"
      },
      "execution_count": 30,
      "outputs": []
    },
    {
      "cell_type": "code",
      "source": [
        "print(X_pca.shape)\n",
        "print(X_train.shape)\n",
        "print(X_test.shape)"
      ],
      "metadata": {
        "colab": {
          "base_uri": "https://localhost:8080/"
        },
        "id": "lk2edFkoxTO-",
        "outputId": "68836d33-710e-40b6-f950-a48eac495d77"
      },
      "execution_count": 31,
      "outputs": [
        {
          "output_type": "stream",
          "name": "stdout",
          "text": [
            "(500, 18)\n",
            "(400, 18)\n",
            "(100, 18)\n"
          ]
        }
      ]
    },
    {
      "cell_type": "markdown",
      "source": [
        "## Classification and Evaluation"
      ],
      "metadata": {
        "id": "DC7MUWsvxhyd"
      }
    },
    {
      "cell_type": "code",
      "source": [
        "# importing the libraries\n",
        "import tensorflow as tf\n",
        "tf.random.set_seed(3)\n",
        "from tensorflow import keras"
      ],
      "metadata": {
        "id": "L9cS8ry88-12"
      },
      "execution_count": 32,
      "outputs": []
    },
    {
      "cell_type": "code",
      "source": [
        "# stacking the layers\n",
        "\n",
        "model = keras.Sequential()\n",
        "model.add(keras.layers.Dense(15, input_shape=(X_train.shape[1],), activation = 'relu'))\n",
        "model.add(keras.layers.Dropout(0.2))\n",
        "model.add(keras.layers.Dense(15, activation = 'relu'))\n",
        "model.add(keras.layers.Dropout(0.2))\n",
        "model.add(keras.layers.Dense(1, activation = 'sigmoid'))\n",
        "model.compile(optimizer='adam', loss='binary_crossentropy', metrics=['accuracy'])"
      ],
      "metadata": {
        "id": "cybCKnVV9gH1"
      },
      "execution_count": 33,
      "outputs": []
    },
    {
      "cell_type": "code",
      "source": [
        "model.summary()"
      ],
      "metadata": {
        "colab": {
          "base_uri": "https://localhost:8080/"
        },
        "id": "buD5z2zSAxSt",
        "outputId": "dea3adbe-4b93-42bf-b289-4a3e850c78af"
      },
      "execution_count": 34,
      "outputs": [
        {
          "output_type": "stream",
          "name": "stdout",
          "text": [
            "Model: \"sequential\"\n",
            "_________________________________________________________________\n",
            " Layer (type)                Output Shape              Param #   \n",
            "=================================================================\n",
            " dense (Dense)               (None, 15)                285       \n",
            "                                                                 \n",
            " dropout (Dropout)           (None, 15)                0         \n",
            "                                                                 \n",
            " dense_1 (Dense)             (None, 15)                240       \n",
            "                                                                 \n",
            " dropout_1 (Dropout)         (None, 15)                0         \n",
            "                                                                 \n",
            " dense_2 (Dense)             (None, 1)                 16        \n",
            "                                                                 \n",
            "=================================================================\n",
            "Total params: 541\n",
            "Trainable params: 541\n",
            "Non-trainable params: 0\n",
            "_________________________________________________________________\n"
          ]
        }
      ]
    },
    {
      "cell_type": "code",
      "source": [
        "# train the model \n",
        "history = model.fit(X_train, y_train, validation_data=[X_test,y_test], epochs=10, verbose=1)"
      ],
      "metadata": {
        "colab": {
          "base_uri": "https://localhost:8080/"
        },
        "id": "-Vcv_zFQARuv",
        "outputId": "ca9dfa00-a053-4c2e-e14f-4f4fc9abae9f"
      },
      "execution_count": 35,
      "outputs": [
        {
          "output_type": "stream",
          "name": "stdout",
          "text": [
            "Epoch 1/10\n",
            "13/13 [==============================] - 1s 14ms/step - loss: 0.7444 - accuracy: 0.4250 - val_loss: 0.7097 - val_accuracy: 0.5400\n",
            "Epoch 2/10\n",
            "13/13 [==============================] - 0s 4ms/step - loss: 0.6864 - accuracy: 0.5975 - val_loss: 0.6542 - val_accuracy: 0.7800\n",
            "Epoch 3/10\n",
            "13/13 [==============================] - 0s 3ms/step - loss: 0.6409 - accuracy: 0.6975 - val_loss: 0.6034 - val_accuracy: 0.9000\n",
            "Epoch 4/10\n",
            "13/13 [==============================] - 0s 6ms/step - loss: 0.5873 - accuracy: 0.8000 - val_loss: 0.5536 - val_accuracy: 0.9200\n",
            "Epoch 5/10\n",
            "13/13 [==============================] - 0s 5ms/step - loss: 0.5659 - accuracy: 0.8125 - val_loss: 0.5044 - val_accuracy: 0.9700\n",
            "Epoch 6/10\n",
            "13/13 [==============================] - 0s 5ms/step - loss: 0.5080 - accuracy: 0.8525 - val_loss: 0.4560 - val_accuracy: 0.9700\n",
            "Epoch 7/10\n",
            "13/13 [==============================] - 0s 5ms/step - loss: 0.4630 - accuracy: 0.9000 - val_loss: 0.4071 - val_accuracy: 0.9700\n",
            "Epoch 8/10\n",
            "13/13 [==============================] - 0s 6ms/step - loss: 0.4252 - accuracy: 0.8975 - val_loss: 0.3585 - val_accuracy: 0.9600\n",
            "Epoch 9/10\n",
            "13/13 [==============================] - 0s 4ms/step - loss: 0.3835 - accuracy: 0.9300 - val_loss: 0.3131 - val_accuracy: 0.9700\n",
            "Epoch 10/10\n",
            "13/13 [==============================] - 0s 4ms/step - loss: 0.3321 - accuracy: 0.9425 - val_loss: 0.2717 - val_accuracy: 0.9800\n"
          ]
        }
      ]
    },
    {
      "cell_type": "code",
      "source": [
        "# plot the loss function\n",
        "\n",
        "plt.plot(history.history['loss'])\n",
        "plt.plot(history.history['val_loss'])\n",
        "\n",
        "plt.title('loss_function')\n",
        "plt.legend(['traing_data','validation_data'])"
      ],
      "metadata": {
        "colab": {
          "base_uri": "https://localhost:8080/",
          "height": 299
        },
        "id": "oX-8W2XMBOmc",
        "outputId": "5031f276-a57d-44cc-bb5f-3ee990155d37"
      },
      "execution_count": 36,
      "outputs": [
        {
          "output_type": "execute_result",
          "data": {
            "text/plain": [
              "<matplotlib.legend.Legend at 0x7f949fa78f10>"
            ]
          },
          "metadata": {},
          "execution_count": 36
        },
        {
          "output_type": "display_data",
          "data": {
            "text/plain": [
              "<Figure size 432x288 with 1 Axes>"
            ],
            "image/png": "[encoded data removed]"
          },
          "metadata": {
            "needs_background": "light"
          }
        }
      ]
    },
    {
      "cell_type": "code",
      "source": [
        "# plot accuracy\n",
        "\n",
        "plt.plot(history.history['accuracy'])\n",
        "plt.plot(history.history['val_accuracy'])\n",
        "\n",
        "plt.title('accuracy')\n",
        "plt.legend(['traing_data','validation_data'])"
      ],
      "metadata": {
        "colab": {
          "base_uri": "https://localhost:8080/",
          "height": 299
        },
        "id": "bZ0jctwbBeWO",
        "outputId": "9c93a83b-10d3-446d-a644-394af1124bff"
      },
      "execution_count": 37,
      "outputs": [
        {
          "output_type": "execute_result",
          "data": {
            "text/plain": [
              "<matplotlib.legend.Legend at 0x7f949e0b1df0>"
            ]
          },
          "metadata": {},
          "execution_count": 37
        },
        {
          "output_type": "display_data",
          "data": {
            "text/plain": [
              "<Figure size 432x288 with 1 Axes>"
            ],
            "image/png": "[encoded data removed]"
          },
          "metadata": {
            "needs_background": "light"
          }
        }
      ]
    },
    {
      "cell_type": "markdown",
      "source": [
        "No issues with over-fitting."
      ],
      "metadata": {
        "id": "LxQ2vbStCGlk"
      }
    },
    {
      "cell_type": "code",
      "source": [
        "# prediction\n",
        "\n",
        "y_pred = model.predict(X_test, verbose = True)"
      ],
      "metadata": {
        "colab": {
          "base_uri": "https://localhost:8080/"
        },
        "id": "ACXbon4tPZZd",
        "outputId": "a6732dd5-07b7-4c80-b546-a447c2e98abb"
      },
      "execution_count": 38,
      "outputs": [
        {
          "output_type": "stream",
          "name": "stdout",
          "text": [
            "4/4 [==============================] - 0s 2ms/step\n"
          ]
        }
      ]
    },
    {
      "cell_type": "code",
      "source": [
        "y_pred"
      ],
      "metadata": {
        "colab": {
          "base_uri": "https://localhost:8080/"
        },
        "id": "7z-kgbpyVTpI",
        "outputId": "a3dc156e-79ac-481c-da41-20bf7f0c2182"
      },
      "execution_count": 39,
      "outputs": [
        {
          "output_type": "execute_result",
          "data": {
            "text/plain": [
              "array([[0.7538955 ],\n",
              "       [0.76920027],\n",
              "       [0.48125058],\n",
              "       [0.88281494],\n",
              "       [0.833249  ],\n",
              "       [0.13914686],\n",
              "       [0.13796233],\n",
              "       [0.79754084],\n",
              "       [0.09046767],\n",
              "       [0.8210335 ],\n",
              "       [0.6628988 ],\n",
              "       [0.8607514 ],\n",
              "       [0.25696295],\n",
              "       [0.10738408],\n",
              "       [0.8653264 ],\n",
              "       [0.15979171],\n",
              "       [0.8180358 ],\n",
              "       [0.19614387],\n",
              "       [0.8064833 ],\n",
              "       [0.74087626],\n",
              "       [0.6366161 ],\n",
              "       [0.3448011 ],\n",
              "       [0.8660176 ],\n",
              "       [0.24261591],\n",
              "       [0.24190095],\n",
              "       [0.83637446],\n",
              "       [0.5340485 ],\n",
              "       [0.2767017 ],\n",
              "       [0.8312158 ],\n",
              "       [0.17544751],\n",
              "       [0.7609606 ],\n",
              "       [0.7695174 ],\n",
              "       [0.3611591 ],\n",
              "       [0.06282496],\n",
              "       [0.790954  ],\n",
              "       [0.81234145],\n",
              "       [0.6567347 ],\n",
              "       [0.7819416 ],\n",
              "       [0.08354655],\n",
              "       [0.8182312 ],\n",
              "       [0.7119236 ],\n",
              "       [0.8320406 ],\n",
              "       [0.23698768],\n",
              "       [0.79947007],\n",
              "       [0.8210406 ],\n",
              "       [0.20571528],\n",
              "       [0.8210406 ],\n",
              "       [0.74087626],\n",
              "       [0.1658144 ],\n",
              "       [0.34639224],\n",
              "       [0.41405213],\n",
              "       [0.45645997],\n",
              "       [0.7545641 ],\n",
              "       [0.79947007],\n",
              "       [0.8660176 ],\n",
              "       [0.69327277],\n",
              "       [0.8170919 ],\n",
              "       [0.08639894],\n",
              "       [0.23314537],\n",
              "       [0.8481198 ],\n",
              "       [0.7194802 ],\n",
              "       [0.76054704],\n",
              "       [0.38029826],\n",
              "       [0.22816052],\n",
              "       [0.43615186],\n",
              "       [0.66408753],\n",
              "       [0.02930629],\n",
              "       [0.76920027],\n",
              "       [0.19067292],\n",
              "       [0.3022802 ],\n",
              "       [0.26965645],\n",
              "       [0.68910545],\n",
              "       [0.7083753 ],\n",
              "       [0.05406224],\n",
              "       [0.8180358 ],\n",
              "       [0.5158537 ],\n",
              "       [0.31154415],\n",
              "       [0.46598992],\n",
              "       [0.79819316],\n",
              "       [0.15430367],\n",
              "       [0.19671488],\n",
              "       [0.12642191],\n",
              "       [0.4860301 ],\n",
              "       [0.08661085],\n",
              "       [0.26903003],\n",
              "       [0.15154096],\n",
              "       [0.2178729 ],\n",
              "       [0.15498003],\n",
              "       [0.14972512],\n",
              "       [0.76611716],\n",
              "       [0.8034464 ],\n",
              "       [0.27896807],\n",
              "       [0.6576939 ],\n",
              "       [0.66524523],\n",
              "       [0.10499589],\n",
              "       [0.79401904],\n",
              "       [0.20860124],\n",
              "       [0.8302917 ],\n",
              "       [0.8312158 ],\n",
              "       [0.16683254]], dtype=float32)"
            ]
          },
          "metadata": {},
          "execution_count": 39
        }
      ]
    },
    {
      "cell_type": "code",
      "source": [
        "# precision, recall, f1_score\n",
        "\n",
        "from sklearn.metrics import precision_recall_curve, f1_score\n",
        "\n",
        "pres, recall, thres = precision_recall_curve(y_test, y_pred, pos_label = 1)\n",
        "f1_score = [(2*pres[i]*recall[i])/(pres[i]+recall[i]) for i in range(len(thres))]\n",
        "\n",
        "ind = np.argmax(f1_score)"
      ],
      "metadata": {
        "id": "J8kg3c-ZNd4F"
      },
      "execution_count": 40,
      "outputs": []
    },
    {
      "cell_type": "code",
      "source": [
        "print('Precision:' + str(pres[ind]))\n",
        "print('Recall:' + str(recall[ind]))\n",
        "print('f1_score:' + str(f1_score[ind]))"
      ],
      "metadata": {
        "colab": {
          "base_uri": "https://localhost:8080/"
        },
        "id": "M04ydnlqVFFB",
        "outputId": "283dd69f-4e48-4115-e185-700e61fa2fba"
      },
      "execution_count": 41,
      "outputs": [
        {
          "output_type": "stream",
          "name": "stdout",
          "text": [
            "Precision:1.0\n",
            "Recall:1.0\n",
            "f1_score:1.0\n"
          ]
        }
      ]
    },
    {
      "cell_type": "code",
      "source": [
        "print('Threshold:' + str(thres[ind]))"
      ],
      "metadata": {
        "colab": {
          "base_uri": "https://localhost:8080/"
        },
        "id": "MHFnFplXXcOv",
        "outputId": "0b605f6b-1d74-4924-ff44-a05f2c760f49"
      },
      "execution_count": 42,
      "outputs": [
        {
          "output_type": "stream",
          "name": "stdout",
          "text": [
            "Threshold:0.6366161\n"
          ]
        }
      ]
    },
    {
      "cell_type": "code",
      "source": [
        "# plot f1_score\n",
        "plt.plot(thres, f1_score)\n",
        "plt.title('Threshold vs f1_score')\n",
        "plt.show()"
      ],
      "metadata": {
        "colab": {
          "base_uri": "https://localhost:8080/",
          "height": 281
        },
        "id": "ycg_uLqbW9rH",
        "outputId": "685cb5aa-5519-4089-8c8f-dbce8f3a9f30"
      },
      "execution_count": 43,
      "outputs": [
        {
          "output_type": "display_data",
          "data": {
            "text/plain": [
              "<Figure size 432x288 with 1 Axes>"
            ],
            "image/png": "[encoded data removed]"
          },
          "metadata": {
            "needs_background": "light"
          }
        }
      ]
    }
  ]
}