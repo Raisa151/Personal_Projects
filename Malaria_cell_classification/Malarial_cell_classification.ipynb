{
  "nbformat": 4,
  "nbformat_minor": 0,
  "metadata": {
    "colab": {
      "provenance": []
    },
    "kernelspec": {
      "name": "python3",
      "display_name": "Python 3"
    },
    "language_info": {
      "name": "python"
    },
    "accelerator": "GPU",
    "gpuClass": "standard"
  },
  "cells": [
    {
      "cell_type": "markdown",
      "source": [
        "unzip the data -> Define image directory -> create empty list for image and label -> define parasitize image directory -> loop through the directory and read the image -> resize the image -> conver back to np array and add to the dataset -> add label to label list -> repeat the same for the uninfeected data."
      ],
      "metadata": {
        "id": "FrzT4rHx6n4m"
      }
    },
    {
      "cell_type": "code",
      "source": [
        "import warnings\n",
        "warnings.filterwarnings('ignore')"
      ],
      "metadata": {
        "id": "Afg8fS6hJPIq"
      },
      "execution_count": 47,
      "outputs": []
    },
    {
      "cell_type": "code",
      "source": [
        "# unzip\n",
        "\n",
        "!unzip /content/malaria.zip"
      ],
      "metadata": {
        "id": "dg3dbnBGW3jW",
        "outputId": "0d1ef337-eb85-4680-aa61-ab68a3107c19",
        "colab": {
          "base_uri": "https://localhost:8080/"
        }
      },
      "execution_count": 48,
      "outputs": [
        {
          "output_type": "stream",
          "name": "stdout",
          "text": [
            "Archive:  /content/malaria.zip\n",
            "replace cell_images/Parasitized/C100P61ThinF_IMG_20150918_144104_cell_162.png? [y]es, [n]o, [A]ll, [N]one, [r]ename: "
          ]
        }
      ]
    },
    {
      "cell_type": "code",
      "source": [
        "# import the libraries\n",
        "\n",
        "import os\n",
        "import cv2\n",
        "from PIL import Image\n",
        "import matplotlib.pyplot as plt\n",
        "import numpy as np"
      ],
      "metadata": {
        "id": "WUqnG0P-W9g-"
      },
      "execution_count": 49,
      "outputs": []
    },
    {
      "cell_type": "code",
      "source": [
        "# count the number of images\n",
        "\n",
        "ROOT_DIR = \"/content/cell_images\"\n",
        "number_of_images = {}\n",
        "\n",
        "for dir in os.listdir(ROOT_DIR):\n",
        "  number_of_images[dir] = len(os.listdir(os.path.join(ROOT_DIR,dir)))\n",
        "\n",
        "number_of_images.items()"
      ],
      "metadata": {
        "colab": {
          "base_uri": "https://localhost:8080/"
        },
        "id": "yG8YjEI7c6Da",
        "outputId": "be3f8aba-a2ca-466a-b9a5-1cb1155454e9"
      },
      "execution_count": 50,
      "outputs": [
        {
          "output_type": "execute_result",
          "data": {
            "text/plain": [
              "dict_items([('Parasitized', 13780), ('Uninfected', 13780)])"
            ]
          },
          "metadata": {},
          "execution_count": 50
        }
      ]
    },
    {
      "cell_type": "code",
      "source": [
        "dataset = []\n",
        "label = []\n",
        "\n",
        "parasitized_image_path = '/content/cell_images/Parasitized'\n",
        "\n",
        "for image_name in os.listdir(parasitized_image_path):\n",
        "  if image_name.split('.')[1] == 'png':\n",
        "    image_arr = cv2.imread(os.path.join(parasitized_image_path,image_name))\n",
        "    image = Image.fromarray(image_arr, 'RGB')\n",
        "    image_resize = image.resize((64,64))\n",
        "    image_fin = np.asarray(image_resize)\n",
        "    dataset.append(image_fin)\n",
        "    label.append(0)"
      ],
      "metadata": {
        "id": "8Wc_B9-7mpt9"
      },
      "execution_count": 52,
      "outputs": []
    },
    {
      "cell_type": "code",
      "source": [
        "uninfected_image_path = '/content/cell_images/Uninfected'\n",
        "\n",
        "\n",
        "for image_name in os.listdir(uninfected_image_path):\n",
        "  if image_name.split('.')[1] == 'png':\n",
        "    image_arr = cv2.imread(os.path.join(uninfected_image_path,image_name))\n",
        "    image = Image.fromarray(image_arr, 'RGB')\n",
        "    image_resize = image.resize((64,64))\n",
        "    image_fin = np.asarray(image_resize)\n",
        "    dataset.append(image_fin)\n",
        "    label.append(1)"
      ],
      "metadata": {
        "id": "f1cMmDGv7WFB"
      },
      "execution_count": 53,
      "outputs": []
    },
    {
      "cell_type": "code",
      "source": [
        "len(label)"
      ],
      "metadata": {
        "id": "vPQCWtrUgNNo",
        "colab": {
          "base_uri": "https://localhost:8080/"
        },
        "outputId": "511a3179-fbae-4810-ab4d-b9de1d9e337c"
      },
      "execution_count": 54,
      "outputs": [
        {
          "output_type": "execute_result",
          "data": {
            "text/plain": [
              "27558"
            ]
          },
          "metadata": {},
          "execution_count": 54
        }
      ]
    },
    {
      "cell_type": "code",
      "source": [
        "y = np.asarray(label)"
      ],
      "metadata": {
        "id": "7baTZy8JfsZA"
      },
      "execution_count": 55,
      "outputs": []
    },
    {
      "cell_type": "markdown",
      "source": [
        "import the dependencies"
      ],
      "metadata": {
        "id": "UUWTaEuycWW2"
      }
    },
    {
      "cell_type": "code",
      "source": [
        "import keras\n",
        "from keras import layers, Model"
      ],
      "metadata": {
        "id": "7iPYyeO1ceDx"
      },
      "execution_count": 56,
      "outputs": []
    },
    {
      "cell_type": "markdown",
      "source": [
        "train test split"
      ],
      "metadata": {
        "id": "EX3-LzC4e9Gh"
      }
    },
    {
      "cell_type": "code",
      "source": [
        "from sklearn.model_selection import train_test_split\n",
        "from keras.utils import to_categorical"
      ],
      "metadata": {
        "id": "4EL8qMG-e5vg"
      },
      "execution_count": 57,
      "outputs": []
    },
    {
      "cell_type": "code",
      "source": [
        "X_train, X_test, y_train, y_test = train_test_split(dataset, to_categorical(y), test_size= 0.2, random_state = 7, shuffle = True)"
      ],
      "metadata": {
        "id": "PFIGc-JxfNso"
      },
      "execution_count": 58,
      "outputs": []
    },
    {
      "cell_type": "markdown",
      "source": [
        "Input layer -> (conv -> maxpool -> norm -> dropout)*2 -> flatten -> (dense -> norm -> dorpout)*2 -> output layer (sigmoid) "
      ],
      "metadata": {
        "id": "qt2jvN-RaRxO"
      }
    },
    {
      "cell_type": "code",
      "execution_count": 72,
      "metadata": {
        "id": "EGoTybt_QcGN"
      },
      "outputs": [],
      "source": [
        "Input_Shape = (64,64,3)\n",
        "inp_layer = layers.Input(shape= Input_Shape)\n",
        "\n",
        "con_1 = layers.Conv2D(32,kernel_size =(3,3),activation= 'relu')(inp_layer)\n",
        "pool_1 = layers.MaxPool2D(pool_size = (2,2))(con_1)\n",
        "norm_1 = layers.BatchNormalization(axis = -1)(pool_1)\n",
        "drop_1 = layers.Dropout(rate = 0.4)(norm_1)\n",
        "\n",
        "con_2 = layers.Conv2D(64,kernel_size =(3,3),activation= 'relu')(drop_1)\n",
        "pool_2 = layers.MaxPool2D(pool_size = (2,2))(con_2)\n",
        "norm_2 = layers.BatchNormalization(axis = -1)(pool_2)\n",
        "drop_2 = layers.Dropout(rate = 0.4)(norm_2)\n",
        "\n",
        "flat = layers.Flatten()(drop_2)\n",
        "\n",
        "dense_1 = layers.Dense(512,activation = 'relu')(flat)\n",
        "norm_3 = layers.BatchNormalization(axis = -1)(dense_1)\n",
        "drop_3 = layers.Dropout(rate = 0.5)(norm_3 )\n",
        "\n",
        "dense_2 = layers.Dense(256,activation = 'relu')(drop_3)\n",
        "norm_4 = layers.BatchNormalization(axis = -1)(dense_2)\n",
        "drop_4 = layers.Dropout(rate = 0.4)(norm_4)\n",
        "\n",
        "output_layer = layers.Dense(units = 2, activation='sigmoid')(drop_4)\n",
        "\n",
        "model = Model(inputs = inp_layer, outputs = output_layer)"
      ]
    },
    {
      "cell_type": "code",
      "source": [
        "model.summary()"
      ],
      "metadata": {
        "colab": {
          "base_uri": "https://localhost:8080/"
        },
        "id": "iYjoQe4gmBVG",
        "outputId": "ea0d17b0-1c85-42f9-b29c-6bf4ab9e40c7"
      },
      "execution_count": 73,
      "outputs": [
        {
          "output_type": "stream",
          "name": "stdout",
          "text": [
            "Model: \"model_5\"\n",
            "_________________________________________________________________\n",
            " Layer (type)                Output Shape              Param #   \n",
            "=================================================================\n",
            " input_6 (InputLayer)        [(None, 64, 64, 3)]       0         \n",
            "                                                                 \n",
            " conv2d_10 (Conv2D)          (None, 62, 62, 32)        896       \n",
            "                                                                 \n",
            " max_pooling2d_10 (MaxPoolin  (None, 31, 31, 32)       0         \n",
            " g2D)                                                            \n",
            "                                                                 \n",
            " batch_normalization_20 (Bat  (None, 31, 31, 32)       128       \n",
            " chNormalization)                                                \n",
            "                                                                 \n",
            " dropout_20 (Dropout)        (None, 31, 31, 32)        0         \n",
            "                                                                 \n",
            " conv2d_11 (Conv2D)          (None, 29, 29, 64)        18496     \n",
            "                                                                 \n",
            " max_pooling2d_11 (MaxPoolin  (None, 14, 14, 64)       0         \n",
            " g2D)                                                            \n",
            "                                                                 \n",
            " batch_normalization_21 (Bat  (None, 14, 14, 64)       256       \n",
            " chNormalization)                                                \n",
            "                                                                 \n",
            " dropout_21 (Dropout)        (None, 14, 14, 64)        0         \n",
            "                                                                 \n",
            " flatten_5 (Flatten)         (None, 12544)             0         \n",
            "                                                                 \n",
            " dense_15 (Dense)            (None, 512)               6423040   \n",
            "                                                                 \n",
            " batch_normalization_22 (Bat  (None, 512)              2048      \n",
            " chNormalization)                                                \n",
            "                                                                 \n",
            " dropout_22 (Dropout)        (None, 512)               0         \n",
            "                                                                 \n",
            " dense_16 (Dense)            (None, 256)               131328    \n",
            "                                                                 \n",
            " batch_normalization_23 (Bat  (None, 256)              1024      \n",
            " chNormalization)                                                \n",
            "                                                                 \n",
            " dropout_23 (Dropout)        (None, 256)               0         \n",
            "                                                                 \n",
            " dense_17 (Dense)            (None, 2)                 514       \n",
            "                                                                 \n",
            "=================================================================\n",
            "Total params: 6,577,730\n",
            "Trainable params: 6,576,002\n",
            "Non-trainable params: 1,728\n",
            "_________________________________________________________________\n"
          ]
        }
      ]
    },
    {
      "cell_type": "markdown",
      "source": [
        "Compile the model: adam optimizer ; loos: catagorical_crossentropy; metrics: accuracy"
      ],
      "metadata": {
        "id": "vhEsz9sV57TH"
      }
    },
    {
      "cell_type": "code",
      "source": [
        "model.compile(optimizer = \"adam\", loss = \"categorical_crossentropy\", metrics = ['accuracy'])"
      ],
      "metadata": {
        "id": "-By60WnR6nNF"
      },
      "execution_count": 74,
      "outputs": []
    },
    {
      "cell_type": "markdown",
      "source": [
        "Train the model"
      ],
      "metadata": {
        "id": "u-oxjeMvO4HV"
      }
    },
    {
      "cell_type": "code",
      "source": [
        "# early stop and checkpoints\n",
        "\n",
        "from keras.callbacks import ModelCheckpoint, EarlyStopping\n",
        "\n",
        "es = EarlyStopping(monitor='val_accuracy', min_delta= 0.5, patience = 10, verbose = 1, mode = 'auto')\n",
        "mcp = ModelCheckpoint(monitor='val_accuracy', filepath= './bestmodel.h5', verbose = 1, save_best_only = True, mode = 'auto')\n",
        "\n",
        "cb = [es, mcp]"
      ],
      "metadata": {
        "id": "Wo9IHWudo5O_"
      },
      "execution_count": 62,
      "outputs": []
    },
    {
      "cell_type": "code",
      "source": [
        "# train the model\n",
        "\n",
        "history = model.fit(np.array(X_train), y_train, batch_size = 64, verbose = 1, epochs = 20, validation_split = 0.1, shuffle = False)"
      ],
      "metadata": {
        "id": "-5BHVTDUO3yt",
        "colab": {
          "base_uri": "https://localhost:8080/"
        },
        "outputId": "d191842f-be25-43c3-be1c-b69577afcdc7"
      },
      "execution_count": 75,
      "outputs": [
        {
          "output_type": "stream",
          "name": "stdout",
          "text": [
            "Epoch 1/20\n",
            "311/311 [==============================] - 8s 14ms/step - loss: 0.6401 - accuracy: 0.7130 - val_loss: 2.4616 - val_accuracy: 0.5751\n",
            "Epoch 2/20\n",
            "311/311 [==============================] - 4s 13ms/step - loss: 0.2786 - accuracy: 0.8957 - val_loss: 0.3046 - val_accuracy: 0.8912\n",
            "Epoch 3/20\n",
            "311/311 [==============================] - 4s 14ms/step - loss: 0.2265 - accuracy: 0.9175 - val_loss: 0.3193 - val_accuracy: 0.8984\n",
            "Epoch 4/20\n",
            "311/311 [==============================] - 4s 13ms/step - loss: 0.2085 - accuracy: 0.9255 - val_loss: 0.1948 - val_accuracy: 0.9247\n",
            "Epoch 5/20\n",
            "311/311 [==============================] - 4s 14ms/step - loss: 0.1921 - accuracy: 0.9317 - val_loss: 0.3201 - val_accuracy: 0.8653\n",
            "Epoch 6/20\n",
            "311/311 [==============================] - 4s 14ms/step - loss: 0.1831 - accuracy: 0.9350 - val_loss: 0.2535 - val_accuracy: 0.8961\n",
            "Epoch 7/20\n",
            "311/311 [==============================] - 4s 13ms/step - loss: 0.1744 - accuracy: 0.9394 - val_loss: 0.3563 - val_accuracy: 0.8816\n",
            "Epoch 8/20\n",
            "311/311 [==============================] - 5s 16ms/step - loss: 0.1607 - accuracy: 0.9455 - val_loss: 0.2322 - val_accuracy: 0.9170\n",
            "Epoch 9/20\n",
            "311/311 [==============================] - 4s 14ms/step - loss: 0.1484 - accuracy: 0.9485 - val_loss: 0.3467 - val_accuracy: 0.8785\n",
            "Epoch 10/20\n",
            "311/311 [==============================] - 4s 13ms/step - loss: 0.1387 - accuracy: 0.9516 - val_loss: 0.1996 - val_accuracy: 0.9297\n",
            "Epoch 11/20\n",
            "311/311 [==============================] - 4s 14ms/step - loss: 0.1312 - accuracy: 0.9551 - val_loss: 0.1670 - val_accuracy: 0.9356\n",
            "Epoch 12/20\n",
            "311/311 [==============================] - 4s 13ms/step - loss: 0.1227 - accuracy: 0.9565 - val_loss: 0.1730 - val_accuracy: 0.9361\n",
            "Epoch 13/20\n",
            "311/311 [==============================] - 4s 13ms/step - loss: 0.1134 - accuracy: 0.9600 - val_loss: 0.2876 - val_accuracy: 0.8952\n",
            "Epoch 14/20\n",
            "311/311 [==============================] - 4s 14ms/step - loss: 0.1081 - accuracy: 0.9609 - val_loss: 0.1668 - val_accuracy: 0.9388\n",
            "Epoch 15/20\n",
            "311/311 [==============================] - 4s 13ms/step - loss: 0.1025 - accuracy: 0.9645 - val_loss: 0.2061 - val_accuracy: 0.9206\n",
            "Epoch 16/20\n",
            "311/311 [==============================] - 4s 13ms/step - loss: 0.0950 - accuracy: 0.9675 - val_loss: 0.2230 - val_accuracy: 0.9152\n",
            "Epoch 17/20\n",
            "311/311 [==============================] - 4s 14ms/step - loss: 0.0925 - accuracy: 0.9676 - val_loss: 0.1611 - val_accuracy: 0.9415\n",
            "Epoch 18/20\n",
            "311/311 [==============================] - 4s 13ms/step - loss: 0.0823 - accuracy: 0.9722 - val_loss: 0.1660 - val_accuracy: 0.9392\n",
            "Epoch 19/20\n",
            "311/311 [==============================] - 4s 13ms/step - loss: 0.0758 - accuracy: 0.9732 - val_loss: 0.1778 - val_accuracy: 0.9338\n",
            "Epoch 20/20\n",
            "311/311 [==============================] - 5s 15ms/step - loss: 0.0696 - accuracy: 0.9758 - val_loss: 0.1584 - val_accuracy: 0.9501\n"
          ]
        }
      ]
    },
    {
      "cell_type": "code",
      "source": [
        "# loss function\n",
        "\n",
        "plt.plot(history.history['loss'])\n",
        "plt.plot(history.history['val_loss'])\n",
        "\n",
        "plt.title('Loss Function')\n",
        "plt.legend(['train_loss', 'Val_loss'])\n",
        "plt.show()"
      ],
      "metadata": {
        "colab": {
          "base_uri": "https://localhost:8080/",
          "height": 281
        },
        "id": "eqYciEo4pryw",
        "outputId": "ccffcac3-2cd4-4529-a019-667239307f8f"
      },
      "execution_count": 76,
      "outputs": [
        {
          "output_type": "display_data",
          "data": {
            "text/plain": [
              "<Figure size 432x288 with 1 Axes>"
            ],
            "image/png": "[encoded data removed]"
          },
          "metadata": {
            "needs_background": "light"
          }
        }
      ]
    },
    {
      "cell_type": "code",
      "source": [
        "# accuarcy\n",
        "\n",
        "plt.plot(history.history['accuracy'])\n",
        "plt.plot(history.history['val_accuracy'])\n",
        "\n",
        "plt.title('ACC Function')\n",
        "plt.legend(['train_acc', 'Val_acc'])\n",
        "plt.show()"
      ],
      "metadata": {
        "colab": {
          "base_uri": "https://localhost:8080/",
          "height": 281
        },
        "id": "QMh_hUGtqhKo",
        "outputId": "a68d3543-5c3e-4f7b-c901-a3242adc2357"
      },
      "execution_count": 77,
      "outputs": [
        {
          "output_type": "display_data",
          "data": {
            "text/plain": [
              "<Figure size 432x288 with 1 Axes>"
            ],
            "image/png": "[encoded data removed]"
          },
          "metadata": {
            "needs_background": "light"
          }
        }
      ]
    },
    {
      "cell_type": "code",
      "source": [
        "# save best model\n",
        "\n",
        "#from keras.models import load_model\n",
        "\n",
        "#best_model = load_model(\"/content/bestmodel.h5\")"
      ],
      "metadata": {
        "id": "jFkq6iYjp9tA"
      },
      "execution_count": null,
      "outputs": []
    },
    {
      "cell_type": "code",
      "source": [
        "loss, acc = model.evaluate(np.array(X_test), np.array(y_test)) \n",
        "print('The accuracy score is', acc*100)"
      ],
      "metadata": {
        "colab": {
          "base_uri": "https://localhost:8080/"
        },
        "id": "V5ekiLOapknw",
        "outputId": "0465e6f6-c2c4-4550-bb94-20703935df8b"
      },
      "execution_count": 78,
      "outputs": [
        {
          "output_type": "stream",
          "name": "stdout",
          "text": [
            "173/173 [==============================] - 1s 4ms/step - loss: 0.1476 - accuracy: 0.9532\n",
            "The accuracy score is 95.31930088996887\n"
          ]
        }
      ]
    }
  ]
}